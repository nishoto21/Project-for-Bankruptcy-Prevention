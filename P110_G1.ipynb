{
 "cells": [
  {
   "cell_type": "code",
   "execution_count": 1,
   "id": "3_6eTdGBmWuq",
   "metadata": {
    "colab": {
     "base_uri": "https://localhost:8080/",
     "height": 344
    },
    "executionInfo": {
     "elapsed": 633,
     "status": "error",
     "timestamp": 1649864895819,
     "user": {
      "displayName": "Nishant Bhavsar",
      "userId": "00570304739136829060"
     },
     "user_tz": -330
    },
    "id": "3_6eTdGBmWuq",
    "outputId": "cd2d1b20-1b5c-4894-9c6c-4543e8d75bcf"
   },
   "outputs": [],
   "source": [
    "import pandas as pd \n",
    "import numpy as np\n",
    "import matplotlib.pyplot as plt\n",
    "from sklearn.preprocessing import LabelEncoder\n",
    "import seaborn as sns\n",
    "import ppscore as pps\n",
    "from pandas import read_csv\n",
    "from numpy import set_printoptions\n",
    "from sklearn.feature_selection import SelectKBest\n",
    "from sklearn.feature_selection import chi2\n",
    "from sklearn.feature_selection import RFE\n",
    "from sklearn.model_selection import train_test_split\n",
    "from sklearn.model_selection import KFold\n",
    "from sklearn.model_selection import cross_val_score\n",
    "from sklearn.metrics import classification_report\n",
    "from sklearn.linear_model import LogisticRegression"
   ]
  },
  {
   "cell_type": "markdown",
   "id": "d4bace0f",
   "metadata": {},
   "source": [
    "# DATA CLEANING"
   ]
  },
  {
   "cell_type": "code",
   "execution_count": 2,
   "id": "cc1a7d89",
   "metadata": {
    "executionInfo": {
     "elapsed": 9,
     "status": "aborted",
     "timestamp": 1649864895812,
     "user": {
      "displayName": "Nishant Bhavsar",
      "userId": "00570304739136829060"
     },
     "user_tz": -330
    },
    "id": "cc1a7d89"
   },
   "outputs": [
    {
     "data": {
      "text/html": [
       "<div>\n",
       "<style scoped>\n",
       "    .dataframe tbody tr th:only-of-type {\n",
       "        vertical-align: middle;\n",
       "    }\n",
       "\n",
       "    .dataframe tbody tr th {\n",
       "        vertical-align: top;\n",
       "    }\n",
       "\n",
       "    .dataframe thead th {\n",
       "        text-align: right;\n",
       "    }\n",
       "</style>\n",
       "<table border=\"1\" class=\"dataframe\">\n",
       "  <thead>\n",
       "    <tr style=\"text-align: right;\">\n",
       "      <th></th>\n",
       "      <th>industrial_risk</th>\n",
       "      <th>management_risk</th>\n",
       "      <th>financial_flexibility</th>\n",
       "      <th>credibility</th>\n",
       "      <th>competitiveness</th>\n",
       "      <th>operating_risk</th>\n",
       "      <th>class</th>\n",
       "    </tr>\n",
       "  </thead>\n",
       "  <tbody>\n",
       "    <tr>\n",
       "      <th>0</th>\n",
       "      <td>0.5</td>\n",
       "      <td>1.0</td>\n",
       "      <td>0.0</td>\n",
       "      <td>0.0</td>\n",
       "      <td>0.0</td>\n",
       "      <td>0.5</td>\n",
       "      <td>bankruptcy</td>\n",
       "    </tr>\n",
       "    <tr>\n",
       "      <th>1</th>\n",
       "      <td>0.0</td>\n",
       "      <td>1.0</td>\n",
       "      <td>0.0</td>\n",
       "      <td>0.0</td>\n",
       "      <td>0.0</td>\n",
       "      <td>1.0</td>\n",
       "      <td>bankruptcy</td>\n",
       "    </tr>\n",
       "    <tr>\n",
       "      <th>2</th>\n",
       "      <td>1.0</td>\n",
       "      <td>0.0</td>\n",
       "      <td>0.0</td>\n",
       "      <td>0.0</td>\n",
       "      <td>0.0</td>\n",
       "      <td>1.0</td>\n",
       "      <td>bankruptcy</td>\n",
       "    </tr>\n",
       "    <tr>\n",
       "      <th>3</th>\n",
       "      <td>0.5</td>\n",
       "      <td>0.0</td>\n",
       "      <td>0.0</td>\n",
       "      <td>0.5</td>\n",
       "      <td>0.0</td>\n",
       "      <td>1.0</td>\n",
       "      <td>bankruptcy</td>\n",
       "    </tr>\n",
       "    <tr>\n",
       "      <th>4</th>\n",
       "      <td>1.0</td>\n",
       "      <td>1.0</td>\n",
       "      <td>0.0</td>\n",
       "      <td>0.0</td>\n",
       "      <td>0.0</td>\n",
       "      <td>1.0</td>\n",
       "      <td>bankruptcy</td>\n",
       "    </tr>\n",
       "  </tbody>\n",
       "</table>\n",
       "</div>"
      ],
      "text/plain": [
       "   industrial_risk  management_risk  financial_flexibility  credibility  \\\n",
       "0              0.5              1.0                    0.0          0.0   \n",
       "1              0.0              1.0                    0.0          0.0   \n",
       "2              1.0              0.0                    0.0          0.0   \n",
       "3              0.5              0.0                    0.0          0.5   \n",
       "4              1.0              1.0                    0.0          0.0   \n",
       "\n",
       "   competitiveness  operating_risk       class  \n",
       "0              0.0             0.5  bankruptcy  \n",
       "1              0.0             1.0  bankruptcy  \n",
       "2              0.0             1.0  bankruptcy  \n",
       "3              0.0             1.0  bankruptcy  \n",
       "4              0.0             1.0  bankruptcy  "
      ]
     },
     "execution_count": 2,
     "metadata": {},
     "output_type": "execute_result"
    }
   ],
   "source": [
    "data = pd.read_csv('D:/Project/bankruptcy-prevention1.csv')\n",
    "data.head()"
   ]
  },
  {
   "cell_type": "code",
   "execution_count": 3,
   "id": "02e4433c",
   "metadata": {
    "executionInfo": {
     "elapsed": 10,
     "status": "aborted",
     "timestamp": 1649864895813,
     "user": {
      "displayName": "Nishant Bhavsar",
      "userId": "00570304739136829060"
     },
     "user_tz": -330
    },
    "id": "02e4433c"
   },
   "outputs": [
    {
     "data": {
      "text/plain": [
       "Index(['industrial_risk', 'management_risk', 'financial_flexibility',\n",
       "       'credibility', 'competitiveness', 'operating_risk', 'class'],\n",
       "      dtype='object')"
      ]
     },
     "execution_count": 3,
     "metadata": {},
     "output_type": "execute_result"
    }
   ],
   "source": [
    "data.columns"
   ]
  },
  {
   "cell_type": "code",
   "execution_count": 4,
   "id": "efa78705",
   "metadata": {
    "executionInfo": {
     "elapsed": 10,
     "status": "aborted",
     "timestamp": 1649864895813,
     "user": {
      "displayName": "Nishant Bhavsar",
      "userId": "00570304739136829060"
     },
     "user_tz": -330
    },
    "id": "efa78705"
   },
   "outputs": [
    {
     "data": {
      "text/html": [
       "<div>\n",
       "<style scoped>\n",
       "    .dataframe tbody tr th:only-of-type {\n",
       "        vertical-align: middle;\n",
       "    }\n",
       "\n",
       "    .dataframe tbody tr th {\n",
       "        vertical-align: top;\n",
       "    }\n",
       "\n",
       "    .dataframe thead th {\n",
       "        text-align: right;\n",
       "    }\n",
       "</style>\n",
       "<table border=\"1\" class=\"dataframe\">\n",
       "  <thead>\n",
       "    <tr style=\"text-align: right;\">\n",
       "      <th></th>\n",
       "      <th>industrial_risk</th>\n",
       "      <th>management_risk</th>\n",
       "      <th>financial_flexibility</th>\n",
       "      <th>credibility</th>\n",
       "      <th>competitiveness</th>\n",
       "      <th>operating_risk</th>\n",
       "    </tr>\n",
       "  </thead>\n",
       "  <tbody>\n",
       "    <tr>\n",
       "      <th>count</th>\n",
       "      <td>250.000000</td>\n",
       "      <td>250.000000</td>\n",
       "      <td>250.000000</td>\n",
       "      <td>250.000000</td>\n",
       "      <td>250.000000</td>\n",
       "      <td>250.000000</td>\n",
       "    </tr>\n",
       "    <tr>\n",
       "      <th>mean</th>\n",
       "      <td>0.518000</td>\n",
       "      <td>0.614000</td>\n",
       "      <td>0.376000</td>\n",
       "      <td>0.470000</td>\n",
       "      <td>0.476000</td>\n",
       "      <td>0.570000</td>\n",
       "    </tr>\n",
       "    <tr>\n",
       "      <th>std</th>\n",
       "      <td>0.411526</td>\n",
       "      <td>0.410705</td>\n",
       "      <td>0.401583</td>\n",
       "      <td>0.415682</td>\n",
       "      <td>0.440682</td>\n",
       "      <td>0.434575</td>\n",
       "    </tr>\n",
       "    <tr>\n",
       "      <th>min</th>\n",
       "      <td>0.000000</td>\n",
       "      <td>0.000000</td>\n",
       "      <td>0.000000</td>\n",
       "      <td>0.000000</td>\n",
       "      <td>0.000000</td>\n",
       "      <td>0.000000</td>\n",
       "    </tr>\n",
       "    <tr>\n",
       "      <th>25%</th>\n",
       "      <td>0.000000</td>\n",
       "      <td>0.500000</td>\n",
       "      <td>0.000000</td>\n",
       "      <td>0.000000</td>\n",
       "      <td>0.000000</td>\n",
       "      <td>0.000000</td>\n",
       "    </tr>\n",
       "    <tr>\n",
       "      <th>50%</th>\n",
       "      <td>0.500000</td>\n",
       "      <td>0.500000</td>\n",
       "      <td>0.500000</td>\n",
       "      <td>0.500000</td>\n",
       "      <td>0.500000</td>\n",
       "      <td>0.500000</td>\n",
       "    </tr>\n",
       "    <tr>\n",
       "      <th>75%</th>\n",
       "      <td>1.000000</td>\n",
       "      <td>1.000000</td>\n",
       "      <td>0.500000</td>\n",
       "      <td>1.000000</td>\n",
       "      <td>1.000000</td>\n",
       "      <td>1.000000</td>\n",
       "    </tr>\n",
       "    <tr>\n",
       "      <th>max</th>\n",
       "      <td>1.000000</td>\n",
       "      <td>1.000000</td>\n",
       "      <td>1.000000</td>\n",
       "      <td>1.000000</td>\n",
       "      <td>1.000000</td>\n",
       "      <td>1.000000</td>\n",
       "    </tr>\n",
       "  </tbody>\n",
       "</table>\n",
       "</div>"
      ],
      "text/plain": [
       "       industrial_risk  management_risk  financial_flexibility  credibility  \\\n",
       "count       250.000000       250.000000             250.000000   250.000000   \n",
       "mean          0.518000         0.614000               0.376000     0.470000   \n",
       "std           0.411526         0.410705               0.401583     0.415682   \n",
       "min           0.000000         0.000000               0.000000     0.000000   \n",
       "25%           0.000000         0.500000               0.000000     0.000000   \n",
       "50%           0.500000         0.500000               0.500000     0.500000   \n",
       "75%           1.000000         1.000000               0.500000     1.000000   \n",
       "max           1.000000         1.000000               1.000000     1.000000   \n",
       "\n",
       "       competitiveness  operating_risk  \n",
       "count       250.000000      250.000000  \n",
       "mean          0.476000        0.570000  \n",
       "std           0.440682        0.434575  \n",
       "min           0.000000        0.000000  \n",
       "25%           0.000000        0.000000  \n",
       "50%           0.500000        0.500000  \n",
       "75%           1.000000        1.000000  \n",
       "max           1.000000        1.000000  "
      ]
     },
     "execution_count": 4,
     "metadata": {},
     "output_type": "execute_result"
    }
   ],
   "source": [
    "data.describe()"
   ]
  },
  {
   "cell_type": "code",
   "execution_count": 5,
   "id": "de707f52",
   "metadata": {
    "executionInfo": {
     "elapsed": 11,
     "status": "aborted",
     "timestamp": 1649864895814,
     "user": {
      "displayName": "Nishant Bhavsar",
      "userId": "00570304739136829060"
     },
     "user_tz": -330
    },
    "id": "de707f52"
   },
   "outputs": [
    {
     "data": {
      "text/plain": [
       "(250, 7)"
      ]
     },
     "execution_count": 5,
     "metadata": {},
     "output_type": "execute_result"
    }
   ],
   "source": [
    "data.shape #250 rows and 7 columns"
   ]
  },
  {
   "cell_type": "code",
   "execution_count": 6,
   "id": "38fe297f",
   "metadata": {
    "executionInfo": {
     "elapsed": 10,
     "status": "aborted",
     "timestamp": 1649864895814,
     "user": {
      "displayName": "Nishant Bhavsar",
      "userId": "00570304739136829060"
     },
     "user_tz": -330
    },
    "id": "38fe297f"
   },
   "outputs": [
    {
     "name": "stdout",
     "output_type": "stream",
     "text": [
      "<class 'pandas.core.frame.DataFrame'>\n",
      "RangeIndex: 250 entries, 0 to 249\n",
      "Data columns (total 7 columns):\n",
      " #   Column                 Non-Null Count  Dtype  \n",
      "---  ------                 --------------  -----  \n",
      " 0   industrial_risk        250 non-null    float64\n",
      " 1   management_risk        250 non-null    float64\n",
      " 2   financial_flexibility  250 non-null    float64\n",
      " 3   credibility            250 non-null    float64\n",
      " 4   competitiveness        250 non-null    float64\n",
      " 5   operating_risk         250 non-null    float64\n",
      " 6   class                  250 non-null    object \n",
      "dtypes: float64(6), object(1)\n",
      "memory usage: 13.8+ KB\n"
     ]
    }
   ],
   "source": [
    "data.info()#no null values"
   ]
  },
  {
   "cell_type": "code",
   "execution_count": 7,
   "id": "6ddf8044",
   "metadata": {
    "executionInfo": {
     "elapsed": 11,
     "status": "aborted",
     "timestamp": 1649864895815,
     "user": {
      "displayName": "Nishant Bhavsar",
      "userId": "00570304739136829060"
     },
     "user_tz": -330
    },
    "id": "6ddf8044"
   },
   "outputs": [],
   "source": [
    "data['class']=data['class'].astype('category')#converted data type from object to category"
   ]
  },
  {
   "cell_type": "code",
   "execution_count": 8,
   "id": "c387dae3",
   "metadata": {
    "executionInfo": {
     "elapsed": 11,
     "status": "aborted",
     "timestamp": 1649864895815,
     "user": {
      "displayName": "Nishant Bhavsar",
      "userId": "00570304739136829060"
     },
     "user_tz": -330
    },
    "id": "c387dae3"
   },
   "outputs": [
    {
     "data": {
      "text/plain": [
       "industrial_risk           float64\n",
       "management_risk           float64\n",
       "financial_flexibility     float64\n",
       "credibility               float64\n",
       "competitiveness           float64\n",
       "operating_risk            float64\n",
       "class                    category\n",
       "dtype: object"
      ]
     },
     "execution_count": 8,
     "metadata": {},
     "output_type": "execute_result"
    }
   ],
   "source": [
    "data.dtypes"
   ]
  },
  {
   "cell_type": "code",
   "execution_count": 9,
   "id": "b6691bd0",
   "metadata": {
    "executionInfo": {
     "elapsed": 11,
     "status": "aborted",
     "timestamp": 1649864895815,
     "user": {
      "displayName": "Nishant Bhavsar",
      "userId": "00570304739136829060"
     },
     "user_tz": -330
    },
    "id": "b6691bd0"
   },
   "outputs": [
    {
     "data": {
      "text/html": [
       "<div>\n",
       "<style scoped>\n",
       "    .dataframe tbody tr th:only-of-type {\n",
       "        vertical-align: middle;\n",
       "    }\n",
       "\n",
       "    .dataframe tbody tr th {\n",
       "        vertical-align: top;\n",
       "    }\n",
       "\n",
       "    .dataframe thead th {\n",
       "        text-align: right;\n",
       "    }\n",
       "</style>\n",
       "<table border=\"1\" class=\"dataframe\">\n",
       "  <thead>\n",
       "    <tr style=\"text-align: right;\">\n",
       "      <th></th>\n",
       "      <th>industrial_risk</th>\n",
       "      <th>management_risk</th>\n",
       "      <th>financial_flexibility</th>\n",
       "      <th>credibility</th>\n",
       "      <th>competitiveness</th>\n",
       "      <th>operating_risk</th>\n",
       "      <th>class</th>\n",
       "    </tr>\n",
       "  </thead>\n",
       "  <tbody>\n",
       "    <tr>\n",
       "      <th>11</th>\n",
       "      <td>0.0</td>\n",
       "      <td>1.0</td>\n",
       "      <td>0.0</td>\n",
       "      <td>0.0</td>\n",
       "      <td>0.0</td>\n",
       "      <td>1.0</td>\n",
       "      <td>bankruptcy</td>\n",
       "    </tr>\n",
       "    <tr>\n",
       "      <th>13</th>\n",
       "      <td>1.0</td>\n",
       "      <td>1.0</td>\n",
       "      <td>0.0</td>\n",
       "      <td>0.0</td>\n",
       "      <td>0.0</td>\n",
       "      <td>1.0</td>\n",
       "      <td>bankruptcy</td>\n",
       "    </tr>\n",
       "    <tr>\n",
       "      <th>15</th>\n",
       "      <td>0.5</td>\n",
       "      <td>1.0</td>\n",
       "      <td>0.0</td>\n",
       "      <td>0.0</td>\n",
       "      <td>0.0</td>\n",
       "      <td>0.5</td>\n",
       "      <td>bankruptcy</td>\n",
       "    </tr>\n",
       "    <tr>\n",
       "      <th>16</th>\n",
       "      <td>0.5</td>\n",
       "      <td>1.0</td>\n",
       "      <td>0.0</td>\n",
       "      <td>0.0</td>\n",
       "      <td>0.0</td>\n",
       "      <td>0.5</td>\n",
       "      <td>bankruptcy</td>\n",
       "    </tr>\n",
       "    <tr>\n",
       "      <th>18</th>\n",
       "      <td>0.5</td>\n",
       "      <td>1.0</td>\n",
       "      <td>0.0</td>\n",
       "      <td>0.0</td>\n",
       "      <td>0.0</td>\n",
       "      <td>1.0</td>\n",
       "      <td>bankruptcy</td>\n",
       "    </tr>\n",
       "    <tr>\n",
       "      <th>...</th>\n",
       "      <td>...</td>\n",
       "      <td>...</td>\n",
       "      <td>...</td>\n",
       "      <td>...</td>\n",
       "      <td>...</td>\n",
       "      <td>...</td>\n",
       "      <td>...</td>\n",
       "    </tr>\n",
       "    <tr>\n",
       "      <th>245</th>\n",
       "      <td>0.0</td>\n",
       "      <td>1.0</td>\n",
       "      <td>1.0</td>\n",
       "      <td>1.0</td>\n",
       "      <td>1.0</td>\n",
       "      <td>1.0</td>\n",
       "      <td>non-bankruptcy</td>\n",
       "    </tr>\n",
       "    <tr>\n",
       "      <th>246</th>\n",
       "      <td>1.0</td>\n",
       "      <td>1.0</td>\n",
       "      <td>0.5</td>\n",
       "      <td>1.0</td>\n",
       "      <td>1.0</td>\n",
       "      <td>0.0</td>\n",
       "      <td>non-bankruptcy</td>\n",
       "    </tr>\n",
       "    <tr>\n",
       "      <th>247</th>\n",
       "      <td>0.0</td>\n",
       "      <td>1.0</td>\n",
       "      <td>1.0</td>\n",
       "      <td>0.5</td>\n",
       "      <td>0.5</td>\n",
       "      <td>0.0</td>\n",
       "      <td>non-bankruptcy</td>\n",
       "    </tr>\n",
       "    <tr>\n",
       "      <th>248</th>\n",
       "      <td>1.0</td>\n",
       "      <td>0.0</td>\n",
       "      <td>0.5</td>\n",
       "      <td>1.0</td>\n",
       "      <td>0.5</td>\n",
       "      <td>0.0</td>\n",
       "      <td>non-bankruptcy</td>\n",
       "    </tr>\n",
       "    <tr>\n",
       "      <th>249</th>\n",
       "      <td>1.0</td>\n",
       "      <td>0.0</td>\n",
       "      <td>0.5</td>\n",
       "      <td>0.5</td>\n",
       "      <td>1.0</td>\n",
       "      <td>1.0</td>\n",
       "      <td>non-bankruptcy</td>\n",
       "    </tr>\n",
       "  </tbody>\n",
       "</table>\n",
       "<p>147 rows × 7 columns</p>\n",
       "</div>"
      ],
      "text/plain": [
       "     industrial_risk  management_risk  financial_flexibility  credibility  \\\n",
       "11               0.0              1.0                    0.0          0.0   \n",
       "13               1.0              1.0                    0.0          0.0   \n",
       "15               0.5              1.0                    0.0          0.0   \n",
       "16               0.5              1.0                    0.0          0.0   \n",
       "18               0.5              1.0                    0.0          0.0   \n",
       "..               ...              ...                    ...          ...   \n",
       "245              0.0              1.0                    1.0          1.0   \n",
       "246              1.0              1.0                    0.5          1.0   \n",
       "247              0.0              1.0                    1.0          0.5   \n",
       "248              1.0              0.0                    0.5          1.0   \n",
       "249              1.0              0.0                    0.5          0.5   \n",
       "\n",
       "     competitiveness  operating_risk           class  \n",
       "11               0.0             1.0      bankruptcy  \n",
       "13               0.0             1.0      bankruptcy  \n",
       "15               0.0             0.5      bankruptcy  \n",
       "16               0.0             0.5      bankruptcy  \n",
       "18               0.0             1.0      bankruptcy  \n",
       "..               ...             ...             ...  \n",
       "245              1.0             1.0  non-bankruptcy  \n",
       "246              1.0             0.0  non-bankruptcy  \n",
       "247              0.5             0.0  non-bankruptcy  \n",
       "248              0.5             0.0  non-bankruptcy  \n",
       "249              1.0             1.0  non-bankruptcy  \n",
       "\n",
       "[147 rows x 7 columns]"
      ]
     },
     "execution_count": 9,
     "metadata": {},
     "output_type": "execute_result"
    }
   ],
   "source": [
    "data[data.duplicated()] #the dataset can have relevant information\n",
    "                        #that's why the duplicate values shouldn't be omitted"
   ]
  },
  {
   "cell_type": "code",
   "execution_count": 10,
   "id": "22c1f938",
   "metadata": {
    "executionInfo": {
     "elapsed": 12,
     "status": "aborted",
     "timestamp": 1649864895816,
     "user": {
      "displayName": "Nishant Bhavsar",
      "userId": "00570304739136829060"
     },
     "user_tz": -330
    },
    "id": "22c1f938"
   },
   "outputs": [
    {
     "data": {
      "text/html": [
       "<div>\n",
       "<style scoped>\n",
       "    .dataframe tbody tr th:only-of-type {\n",
       "        vertical-align: middle;\n",
       "    }\n",
       "\n",
       "    .dataframe tbody tr th {\n",
       "        vertical-align: top;\n",
       "    }\n",
       "\n",
       "    .dataframe thead th {\n",
       "        text-align: right;\n",
       "    }\n",
       "</style>\n",
       "<table border=\"1\" class=\"dataframe\">\n",
       "  <thead>\n",
       "    <tr style=\"text-align: right;\">\n",
       "      <th></th>\n",
       "      <th>industrial_risk</th>\n",
       "      <th>management_risk</th>\n",
       "      <th>financial_flexibility</th>\n",
       "      <th>credibility</th>\n",
       "      <th>competitiveness</th>\n",
       "      <th>operating_risk</th>\n",
       "      <th>class</th>\n",
       "    </tr>\n",
       "  </thead>\n",
       "  <tbody>\n",
       "    <tr>\n",
       "      <th>0</th>\n",
       "      <td>0.5</td>\n",
       "      <td>1.0</td>\n",
       "      <td>0.0</td>\n",
       "      <td>0.0</td>\n",
       "      <td>0.0</td>\n",
       "      <td>0.5</td>\n",
       "      <td>0</td>\n",
       "    </tr>\n",
       "    <tr>\n",
       "      <th>1</th>\n",
       "      <td>0.0</td>\n",
       "      <td>1.0</td>\n",
       "      <td>0.0</td>\n",
       "      <td>0.0</td>\n",
       "      <td>0.0</td>\n",
       "      <td>1.0</td>\n",
       "      <td>0</td>\n",
       "    </tr>\n",
       "    <tr>\n",
       "      <th>2</th>\n",
       "      <td>1.0</td>\n",
       "      <td>0.0</td>\n",
       "      <td>0.0</td>\n",
       "      <td>0.0</td>\n",
       "      <td>0.0</td>\n",
       "      <td>1.0</td>\n",
       "      <td>0</td>\n",
       "    </tr>\n",
       "    <tr>\n",
       "      <th>3</th>\n",
       "      <td>0.5</td>\n",
       "      <td>0.0</td>\n",
       "      <td>0.0</td>\n",
       "      <td>0.5</td>\n",
       "      <td>0.0</td>\n",
       "      <td>1.0</td>\n",
       "      <td>0</td>\n",
       "    </tr>\n",
       "    <tr>\n",
       "      <th>4</th>\n",
       "      <td>1.0</td>\n",
       "      <td>1.0</td>\n",
       "      <td>0.0</td>\n",
       "      <td>0.0</td>\n",
       "      <td>0.0</td>\n",
       "      <td>1.0</td>\n",
       "      <td>0</td>\n",
       "    </tr>\n",
       "  </tbody>\n",
       "</table>\n",
       "</div>"
      ],
      "text/plain": [
       "   industrial_risk  management_risk  financial_flexibility  credibility  \\\n",
       "0              0.5              1.0                    0.0          0.0   \n",
       "1              0.0              1.0                    0.0          0.0   \n",
       "2              1.0              0.0                    0.0          0.0   \n",
       "3              0.5              0.0                    0.0          0.5   \n",
       "4              1.0              1.0                    0.0          0.0   \n",
       "\n",
       "   competitiveness  operating_risk  class  \n",
       "0              0.0             0.5      0  \n",
       "1              0.0             1.0      0  \n",
       "2              0.0             1.0      0  \n",
       "3              0.0             1.0      0  \n",
       "4              0.0             1.0      0  "
      ]
     },
     "execution_count": 10,
     "metadata": {},
     "output_type": "execute_result"
    }
   ],
   "source": [
    "labelencoder = LabelEncoder()\n",
    "data.iloc[:, -1] = labelencoder.fit_transform(data.iloc[:,-1])\n",
    "data.head()"
   ]
  },
  {
   "cell_type": "code",
   "execution_count": 11,
   "id": "171c699d",
   "metadata": {
    "executionInfo": {
     "elapsed": 13,
     "status": "aborted",
     "timestamp": 1649864895817,
     "user": {
      "displayName": "Nishant Bhavsar",
      "userId": "00570304739136829060"
     },
     "user_tz": -330
    },
    "id": "171c699d"
   },
   "outputs": [
    {
     "data": {
      "text/plain": [
       "1    143\n",
       "0    107\n",
       "Name: class, dtype: int64"
      ]
     },
     "execution_count": 11,
     "metadata": {},
     "output_type": "execute_result"
    }
   ],
   "source": [
    "data['class'].value_counts()"
   ]
  },
  {
   "cell_type": "code",
   "execution_count": 12,
   "id": "095ae3fb",
   "metadata": {
    "executionInfo": {
     "elapsed": 12,
     "status": "aborted",
     "timestamp": 1649864895817,
     "user": {
      "displayName": "Nishant Bhavsar",
      "userId": "00570304739136829060"
     },
     "user_tz": -330
    },
    "id": "095ae3fb"
   },
   "outputs": [
    {
     "data": {
      "text/plain": [
       "([<matplotlib.patches.Wedge at 0x2fcfe75ec10>,\n",
       "  <matplotlib.patches.Wedge at 0x2fcfe770130>],\n",
       " [Text(-0.24669792697222737, 1.0719795393698546, 'Not bankrupt'),\n",
       "  Text(0.24669802733819424, -1.0719795162723231, 'Bankrupt')])"
      ]
     },
     "execution_count": 12,
     "metadata": {},
     "output_type": "execute_result"
    },
    {
     "data": {
      "image/png": "[encoded data removed]",
      "text/plain": [
       "<Figure size 432x288 with 1 Axes>"
      ]
     },
     "metadata": {},
     "output_type": "display_data"
    }
   ],
   "source": [
    "plt.pie(data['class'].value_counts(),labels = ['Not bankrupt','Bankrupt'])"
   ]
  },
  {
   "cell_type": "code",
   "execution_count": 13,
   "id": "774a0798",
   "metadata": {
    "executionInfo": {
     "elapsed": 12,
     "status": "aborted",
     "timestamp": 1649864895817,
     "user": {
      "displayName": "Nishant Bhavsar",
      "userId": "00570304739136829060"
     },
     "user_tz": -330
    },
    "id": "774a0798"
   },
   "outputs": [
    {
     "data": {
      "text/plain": [
       "<AxesSubplot:>"
      ]
     },
     "execution_count": 13,
     "metadata": {},
     "output_type": "execute_result"
    },
    {
     "data": {
      "image/png": "[encoded data removed]",
      "text/plain": [
       "<Figure size 432x288 with 1 Axes>"
      ]
     },
     "metadata": {
      "needs_background": "light"
     },
     "output_type": "display_data"
    }
   ],
   "source": [
    "data['industrial_risk'].value_counts().plot(kind = 'bar')"
   ]
  },
  {
   "cell_type": "code",
   "execution_count": 14,
   "id": "8e8ca844",
   "metadata": {
    "executionInfo": {
     "elapsed": 13,
     "status": "aborted",
     "timestamp": 1649864895818,
     "user": {
      "displayName": "Nishant Bhavsar",
      "userId": "00570304739136829060"
     },
     "user_tz": -330
    },
    "id": "8e8ca844"
   },
   "outputs": [
    {
     "data": {
      "text/plain": [
       "(array([ 62.,   0.,   0.,   0.,   0.,  69.,   0.,   0.,   0., 119.]),\n",
       " array([0. , 0.1, 0.2, 0.3, 0.4, 0.5, 0.6, 0.7, 0.8, 0.9, 1. ]),\n",
       " <BarContainer object of 10 artists>)"
      ]
     },
     "execution_count": 14,
     "metadata": {},
     "output_type": "execute_result"
    },
    {
     "data": {
      "image/png": "[encoded data removed]",
      "text/plain": [
       "<Figure size 432x288 with 1 Axes>"
      ]
     },
     "metadata": {
      "needs_background": "light"
     },
     "output_type": "display_data"
    }
   ],
   "source": [
    "plt.hist(data['management_risk'],bins = 10)"
   ]
  },
  {
   "cell_type": "code",
   "execution_count": 15,
   "id": "83e0a3ce",
   "metadata": {
    "executionInfo": {
     "elapsed": 12,
     "status": "aborted",
     "timestamp": 1649864895818,
     "user": {
      "displayName": "Nishant Bhavsar",
      "userId": "00570304739136829060"
     },
     "user_tz": -330
    },
    "id": "83e0a3ce"
   },
   "outputs": [
    {
     "data": {
      "text/plain": [
       "(array([103.,   0.,   0.,   0.,   0.,  56.,   0.,   0.,   0.,  91.]),\n",
       " array([0. , 0.1, 0.2, 0.3, 0.4, 0.5, 0.6, 0.7, 0.8, 0.9, 1. ]),\n",
       " <BarContainer object of 10 artists>)"
      ]
     },
     "execution_count": 15,
     "metadata": {},
     "output_type": "execute_result"
    },
    {
     "data": {
      "image/png": "[encoded data removed]",
      "text/plain": [
       "<Figure size 432x288 with 1 Axes>"
      ]
     },
     "metadata": {
      "needs_background": "light"
     },
     "output_type": "display_data"
    }
   ],
   "source": [
    "plt.hist(data['competitiveness'],bins = 10)"
   ]
  },
  {
   "cell_type": "markdown",
   "id": "cb9b6241",
   "metadata": {},
   "source": [
    "# FEATURE ENGINEERING"
   ]
  },
  {
   "cell_type": "code",
   "execution_count": 16,
   "id": "e636a472",
   "metadata": {},
   "outputs": [
    {
     "data": {
      "text/html": [
       "<div>\n",
       "<style scoped>\n",
       "    .dataframe tbody tr th:only-of-type {\n",
       "        vertical-align: middle;\n",
       "    }\n",
       "\n",
       "    .dataframe tbody tr th {\n",
       "        vertical-align: top;\n",
       "    }\n",
       "\n",
       "    .dataframe thead th {\n",
       "        text-align: right;\n",
       "    }\n",
       "</style>\n",
       "<table border=\"1\" class=\"dataframe\">\n",
       "  <thead>\n",
       "    <tr style=\"text-align: right;\">\n",
       "      <th></th>\n",
       "      <th>industrial_risk</th>\n",
       "      <th>management_risk</th>\n",
       "      <th>financial_flexibility</th>\n",
       "      <th>credibility</th>\n",
       "      <th>competitiveness</th>\n",
       "      <th>operating_risk</th>\n",
       "      <th>class</th>\n",
       "    </tr>\n",
       "  </thead>\n",
       "  <tbody>\n",
       "    <tr>\n",
       "      <th>industrial_risk</th>\n",
       "      <td>1.000000</td>\n",
       "      <td>0.255127</td>\n",
       "      <td>-0.162624</td>\n",
       "      <td>-0.014438</td>\n",
       "      <td>-0.257814</td>\n",
       "      <td>0.144507</td>\n",
       "      <td>-0.227823</td>\n",
       "    </tr>\n",
       "    <tr>\n",
       "      <th>management_risk</th>\n",
       "      <td>0.255127</td>\n",
       "      <td>1.000000</td>\n",
       "      <td>-0.254845</td>\n",
       "      <td>-0.303341</td>\n",
       "      <td>-0.306568</td>\n",
       "      <td>0.213874</td>\n",
       "      <td>-0.370838</td>\n",
       "    </tr>\n",
       "    <tr>\n",
       "      <th>financial_flexibility</th>\n",
       "      <td>-0.162624</td>\n",
       "      <td>-0.254845</td>\n",
       "      <td>1.000000</td>\n",
       "      <td>0.524951</td>\n",
       "      <td>0.686612</td>\n",
       "      <td>-0.116903</td>\n",
       "      <td>0.751020</td>\n",
       "    </tr>\n",
       "    <tr>\n",
       "      <th>credibility</th>\n",
       "      <td>-0.014438</td>\n",
       "      <td>-0.303341</td>\n",
       "      <td>0.524951</td>\n",
       "      <td>1.000000</td>\n",
       "      <td>0.675689</td>\n",
       "      <td>-0.288458</td>\n",
       "      <td>0.755909</td>\n",
       "    </tr>\n",
       "    <tr>\n",
       "      <th>competitiveness</th>\n",
       "      <td>-0.257814</td>\n",
       "      <td>-0.306568</td>\n",
       "      <td>0.686612</td>\n",
       "      <td>0.675689</td>\n",
       "      <td>1.000000</td>\n",
       "      <td>-0.211383</td>\n",
       "      <td>0.899452</td>\n",
       "    </tr>\n",
       "    <tr>\n",
       "      <th>operating_risk</th>\n",
       "      <td>0.144507</td>\n",
       "      <td>0.213874</td>\n",
       "      <td>-0.116903</td>\n",
       "      <td>-0.288458</td>\n",
       "      <td>-0.211383</td>\n",
       "      <td>1.000000</td>\n",
       "      <td>-0.279786</td>\n",
       "    </tr>\n",
       "    <tr>\n",
       "      <th>class</th>\n",
       "      <td>-0.227823</td>\n",
       "      <td>-0.370838</td>\n",
       "      <td>0.751020</td>\n",
       "      <td>0.755909</td>\n",
       "      <td>0.899452</td>\n",
       "      <td>-0.279786</td>\n",
       "      <td>1.000000</td>\n",
       "    </tr>\n",
       "  </tbody>\n",
       "</table>\n",
       "</div>"
      ],
      "text/plain": [
       "                       industrial_risk  management_risk  \\\n",
       "industrial_risk               1.000000         0.255127   \n",
       "management_risk               0.255127         1.000000   \n",
       "financial_flexibility        -0.162624        -0.254845   \n",
       "credibility                  -0.014438        -0.303341   \n",
       "competitiveness              -0.257814        -0.306568   \n",
       "operating_risk                0.144507         0.213874   \n",
       "class                        -0.227823        -0.370838   \n",
       "\n",
       "                       financial_flexibility  credibility  competitiveness  \\\n",
       "industrial_risk                    -0.162624    -0.014438        -0.257814   \n",
       "management_risk                    -0.254845    -0.303341        -0.306568   \n",
       "financial_flexibility               1.000000     0.524951         0.686612   \n",
       "credibility                         0.524951     1.000000         0.675689   \n",
       "competitiveness                     0.686612     0.675689         1.000000   \n",
       "operating_risk                     -0.116903    -0.288458        -0.211383   \n",
       "class                               0.751020     0.755909         0.899452   \n",
       "\n",
       "                       operating_risk     class  \n",
       "industrial_risk              0.144507 -0.227823  \n",
       "management_risk              0.213874 -0.370838  \n",
       "financial_flexibility       -0.116903  0.751020  \n",
       "credibility                 -0.288458  0.755909  \n",
       "competitiveness             -0.211383  0.899452  \n",
       "operating_risk               1.000000 -0.279786  \n",
       "class                       -0.279786  1.000000  "
      ]
     },
     "execution_count": 16,
     "metadata": {},
     "output_type": "execute_result"
    }
   ],
   "source": [
    "correlation = data.corr(method = 'pearson')\n",
    "correlation"
   ]
  },
  {
   "cell_type": "code",
   "execution_count": 17,
   "id": "cb92a692",
   "metadata": {},
   "outputs": [
    {
     "data": {
      "text/plain": [
       "<AxesSubplot:>"
      ]
     },
     "execution_count": 17,
     "metadata": {},
     "output_type": "execute_result"
    },
    {
     "data": {
      "image/png": "[encoded data removed]",
      "text/plain": [
       "<Figure size 432x288 with 2 Axes>"
      ]
     },
     "metadata": {
      "needs_background": "light"
     },
     "output_type": "display_data"
    }
   ],
   "source": [
    "sns.heatmap(correlation,xticklabels=correlation.columns, yticklabels=correlation.columns,annot=True)   "
   ]
  },
  {
   "cell_type": "code",
   "execution_count": 18,
   "id": "738b6c33",
   "metadata": {
    "executionInfo": {
     "elapsed": 12,
     "status": "aborted",
     "timestamp": 1649864895818,
     "user": {
      "displayName": "Nishant Bhavsar",
      "userId": "00570304739136829060"
     },
     "user_tz": -330
    },
    "id": "738b6c33"
   },
   "outputs": [
    {
     "data": {
      "text/html": [
       "<div>\n",
       "<style scoped>\n",
       "    .dataframe tbody tr th:only-of-type {\n",
       "        vertical-align: middle;\n",
       "    }\n",
       "\n",
       "    .dataframe tbody tr th {\n",
       "        vertical-align: top;\n",
       "    }\n",
       "\n",
       "    .dataframe thead th {\n",
       "        text-align: right;\n",
       "    }\n",
       "</style>\n",
       "<table border=\"1\" class=\"dataframe\">\n",
       "  <thead>\n",
       "    <tr style=\"text-align: right;\">\n",
       "      <th></th>\n",
       "      <th>x</th>\n",
       "      <th>y</th>\n",
       "      <th>ppscore</th>\n",
       "      <th>case</th>\n",
       "      <th>is_valid_score</th>\n",
       "      <th>metric</th>\n",
       "      <th>baseline_score</th>\n",
       "      <th>model_score</th>\n",
       "      <th>model</th>\n",
       "    </tr>\n",
       "  </thead>\n",
       "  <tbody>\n",
       "    <tr>\n",
       "      <th>0</th>\n",
       "      <td>industrial_risk</td>\n",
       "      <td>industrial_risk</td>\n",
       "      <td>1.000000</td>\n",
       "      <td>predict_itself</td>\n",
       "      <td>True</td>\n",
       "      <td>None</td>\n",
       "      <td>0.000</td>\n",
       "      <td>1.000000</td>\n",
       "      <td>None</td>\n",
       "    </tr>\n",
       "    <tr>\n",
       "      <th>1</th>\n",
       "      <td>industrial_risk</td>\n",
       "      <td>management_risk</td>\n",
       "      <td>0.108761</td>\n",
       "      <td>regression</td>\n",
       "      <td>True</td>\n",
       "      <td>mean absolute error</td>\n",
       "      <td>0.362</td>\n",
       "      <td>0.322629</td>\n",
       "      <td>DecisionTreeRegressor()</td>\n",
       "    </tr>\n",
       "    <tr>\n",
       "      <th>2</th>\n",
       "      <td>industrial_risk</td>\n",
       "      <td>financial_flexibility</td>\n",
       "      <td>0.000000</td>\n",
       "      <td>regression</td>\n",
       "      <td>True</td>\n",
       "      <td>mean absolute error</td>\n",
       "      <td>0.352</td>\n",
       "      <td>0.352440</td>\n",
       "      <td>DecisionTreeRegressor()</td>\n",
       "    </tr>\n",
       "    <tr>\n",
       "      <th>3</th>\n",
       "      <td>industrial_risk</td>\n",
       "      <td>credibility</td>\n",
       "      <td>0.000000</td>\n",
       "      <td>regression</td>\n",
       "      <td>True</td>\n",
       "      <td>mean absolute error</td>\n",
       "      <td>0.346</td>\n",
       "      <td>0.361087</td>\n",
       "      <td>DecisionTreeRegressor()</td>\n",
       "    </tr>\n",
       "    <tr>\n",
       "      <th>4</th>\n",
       "      <td>industrial_risk</td>\n",
       "      <td>competitiveness</td>\n",
       "      <td>0.015113</td>\n",
       "      <td>regression</td>\n",
       "      <td>True</td>\n",
       "      <td>mean absolute error</td>\n",
       "      <td>0.388</td>\n",
       "      <td>0.382136</td>\n",
       "      <td>DecisionTreeRegressor()</td>\n",
       "    </tr>\n",
       "    <tr>\n",
       "      <th>5</th>\n",
       "      <td>industrial_risk</td>\n",
       "      <td>operating_risk</td>\n",
       "      <td>0.000000</td>\n",
       "      <td>regression</td>\n",
       "      <td>True</td>\n",
       "      <td>mean absolute error</td>\n",
       "      <td>0.386</td>\n",
       "      <td>0.387298</td>\n",
       "      <td>DecisionTreeRegressor()</td>\n",
       "    </tr>\n",
       "    <tr>\n",
       "      <th>6</th>\n",
       "      <td>industrial_risk</td>\n",
       "      <td>class</td>\n",
       "      <td>0.000000</td>\n",
       "      <td>regression</td>\n",
       "      <td>True</td>\n",
       "      <td>mean absolute error</td>\n",
       "      <td>0.428</td>\n",
       "      <td>0.463702</td>\n",
       "      <td>DecisionTreeRegressor()</td>\n",
       "    </tr>\n",
       "    <tr>\n",
       "      <th>7</th>\n",
       "      <td>management_risk</td>\n",
       "      <td>industrial_risk</td>\n",
       "      <td>0.000000</td>\n",
       "      <td>regression</td>\n",
       "      <td>True</td>\n",
       "      <td>mean absolute error</td>\n",
       "      <td>0.338</td>\n",
       "      <td>0.348953</td>\n",
       "      <td>DecisionTreeRegressor()</td>\n",
       "    </tr>\n",
       "    <tr>\n",
       "      <th>8</th>\n",
       "      <td>management_risk</td>\n",
       "      <td>management_risk</td>\n",
       "      <td>1.000000</td>\n",
       "      <td>predict_itself</td>\n",
       "      <td>True</td>\n",
       "      <td>None</td>\n",
       "      <td>0.000</td>\n",
       "      <td>1.000000</td>\n",
       "      <td>None</td>\n",
       "    </tr>\n",
       "    <tr>\n",
       "      <th>9</th>\n",
       "      <td>management_risk</td>\n",
       "      <td>financial_flexibility</td>\n",
       "      <td>0.042517</td>\n",
       "      <td>regression</td>\n",
       "      <td>True</td>\n",
       "      <td>mean absolute error</td>\n",
       "      <td>0.352</td>\n",
       "      <td>0.337034</td>\n",
       "      <td>DecisionTreeRegressor()</td>\n",
       "    </tr>\n",
       "    <tr>\n",
       "      <th>10</th>\n",
       "      <td>management_risk</td>\n",
       "      <td>credibility</td>\n",
       "      <td>0.000000</td>\n",
       "      <td>regression</td>\n",
       "      <td>True</td>\n",
       "      <td>mean absolute error</td>\n",
       "      <td>0.346</td>\n",
       "      <td>0.351594</td>\n",
       "      <td>DecisionTreeRegressor()</td>\n",
       "    </tr>\n",
       "    <tr>\n",
       "      <th>11</th>\n",
       "      <td>management_risk</td>\n",
       "      <td>competitiveness</td>\n",
       "      <td>0.022214</td>\n",
       "      <td>regression</td>\n",
       "      <td>True</td>\n",
       "      <td>mean absolute error</td>\n",
       "      <td>0.388</td>\n",
       "      <td>0.379381</td>\n",
       "      <td>DecisionTreeRegressor()</td>\n",
       "    </tr>\n",
       "    <tr>\n",
       "      <th>12</th>\n",
       "      <td>management_risk</td>\n",
       "      <td>operating_risk</td>\n",
       "      <td>0.000000</td>\n",
       "      <td>regression</td>\n",
       "      <td>True</td>\n",
       "      <td>mean absolute error</td>\n",
       "      <td>0.386</td>\n",
       "      <td>0.389833</td>\n",
       "      <td>DecisionTreeRegressor()</td>\n",
       "    </tr>\n",
       "    <tr>\n",
       "      <th>13</th>\n",
       "      <td>management_risk</td>\n",
       "      <td>class</td>\n",
       "      <td>0.010108</td>\n",
       "      <td>regression</td>\n",
       "      <td>True</td>\n",
       "      <td>mean absolute error</td>\n",
       "      <td>0.428</td>\n",
       "      <td>0.423674</td>\n",
       "      <td>DecisionTreeRegressor()</td>\n",
       "    </tr>\n",
       "    <tr>\n",
       "      <th>14</th>\n",
       "      <td>financial_flexibility</td>\n",
       "      <td>industrial_risk</td>\n",
       "      <td>0.000000</td>\n",
       "      <td>regression</td>\n",
       "      <td>True</td>\n",
       "      <td>mean absolute error</td>\n",
       "      <td>0.338</td>\n",
       "      <td>0.354482</td>\n",
       "      <td>DecisionTreeRegressor()</td>\n",
       "    </tr>\n",
       "    <tr>\n",
       "      <th>15</th>\n",
       "      <td>financial_flexibility</td>\n",
       "      <td>management_risk</td>\n",
       "      <td>0.049875</td>\n",
       "      <td>regression</td>\n",
       "      <td>True</td>\n",
       "      <td>mean absolute error</td>\n",
       "      <td>0.362</td>\n",
       "      <td>0.343945</td>\n",
       "      <td>DecisionTreeRegressor()</td>\n",
       "    </tr>\n",
       "    <tr>\n",
       "      <th>16</th>\n",
       "      <td>financial_flexibility</td>\n",
       "      <td>financial_flexibility</td>\n",
       "      <td>1.000000</td>\n",
       "      <td>predict_itself</td>\n",
       "      <td>True</td>\n",
       "      <td>None</td>\n",
       "      <td>0.000</td>\n",
       "      <td>1.000000</td>\n",
       "      <td>None</td>\n",
       "    </tr>\n",
       "    <tr>\n",
       "      <th>17</th>\n",
       "      <td>financial_flexibility</td>\n",
       "      <td>credibility</td>\n",
       "      <td>0.139462</td>\n",
       "      <td>regression</td>\n",
       "      <td>True</td>\n",
       "      <td>mean absolute error</td>\n",
       "      <td>0.346</td>\n",
       "      <td>0.297746</td>\n",
       "      <td>DecisionTreeRegressor()</td>\n",
       "    </tr>\n",
       "    <tr>\n",
       "      <th>18</th>\n",
       "      <td>financial_flexibility</td>\n",
       "      <td>competitiveness</td>\n",
       "      <td>0.362923</td>\n",
       "      <td>regression</td>\n",
       "      <td>True</td>\n",
       "      <td>mean absolute error</td>\n",
       "      <td>0.388</td>\n",
       "      <td>0.247186</td>\n",
       "      <td>DecisionTreeRegressor()</td>\n",
       "    </tr>\n",
       "    <tr>\n",
       "      <th>19</th>\n",
       "      <td>financial_flexibility</td>\n",
       "      <td>operating_risk</td>\n",
       "      <td>0.000000</td>\n",
       "      <td>regression</td>\n",
       "      <td>True</td>\n",
       "      <td>mean absolute error</td>\n",
       "      <td>0.386</td>\n",
       "      <td>0.391080</td>\n",
       "      <td>DecisionTreeRegressor()</td>\n",
       "    </tr>\n",
       "    <tr>\n",
       "      <th>20</th>\n",
       "      <td>financial_flexibility</td>\n",
       "      <td>class</td>\n",
       "      <td>0.634376</td>\n",
       "      <td>regression</td>\n",
       "      <td>True</td>\n",
       "      <td>mean absolute error</td>\n",
       "      <td>0.428</td>\n",
       "      <td>0.156487</td>\n",
       "      <td>DecisionTreeRegressor()</td>\n",
       "    </tr>\n",
       "    <tr>\n",
       "      <th>21</th>\n",
       "      <td>credibility</td>\n",
       "      <td>industrial_risk</td>\n",
       "      <td>0.000000</td>\n",
       "      <td>regression</td>\n",
       "      <td>True</td>\n",
       "      <td>mean absolute error</td>\n",
       "      <td>0.338</td>\n",
       "      <td>0.353048</td>\n",
       "      <td>DecisionTreeRegressor()</td>\n",
       "    </tr>\n",
       "    <tr>\n",
       "      <th>22</th>\n",
       "      <td>credibility</td>\n",
       "      <td>management_risk</td>\n",
       "      <td>0.060903</td>\n",
       "      <td>regression</td>\n",
       "      <td>True</td>\n",
       "      <td>mean absolute error</td>\n",
       "      <td>0.362</td>\n",
       "      <td>0.339953</td>\n",
       "      <td>DecisionTreeRegressor()</td>\n",
       "    </tr>\n",
       "    <tr>\n",
       "      <th>23</th>\n",
       "      <td>credibility</td>\n",
       "      <td>financial_flexibility</td>\n",
       "      <td>0.303439</td>\n",
       "      <td>regression</td>\n",
       "      <td>True</td>\n",
       "      <td>mean absolute error</td>\n",
       "      <td>0.352</td>\n",
       "      <td>0.245190</td>\n",
       "      <td>DecisionTreeRegressor()</td>\n",
       "    </tr>\n",
       "    <tr>\n",
       "      <th>24</th>\n",
       "      <td>credibility</td>\n",
       "      <td>credibility</td>\n",
       "      <td>1.000000</td>\n",
       "      <td>predict_itself</td>\n",
       "      <td>True</td>\n",
       "      <td>None</td>\n",
       "      <td>0.000</td>\n",
       "      <td>1.000000</td>\n",
       "      <td>None</td>\n",
       "    </tr>\n",
       "    <tr>\n",
       "      <th>25</th>\n",
       "      <td>credibility</td>\n",
       "      <td>competitiveness</td>\n",
       "      <td>0.358299</td>\n",
       "      <td>regression</td>\n",
       "      <td>True</td>\n",
       "      <td>mean absolute error</td>\n",
       "      <td>0.388</td>\n",
       "      <td>0.248980</td>\n",
       "      <td>DecisionTreeRegressor()</td>\n",
       "    </tr>\n",
       "    <tr>\n",
       "      <th>26</th>\n",
       "      <td>credibility</td>\n",
       "      <td>operating_risk</td>\n",
       "      <td>0.024039</td>\n",
       "      <td>regression</td>\n",
       "      <td>True</td>\n",
       "      <td>mean absolute error</td>\n",
       "      <td>0.386</td>\n",
       "      <td>0.376721</td>\n",
       "      <td>DecisionTreeRegressor()</td>\n",
       "    </tr>\n",
       "    <tr>\n",
       "      <th>27</th>\n",
       "      <td>credibility</td>\n",
       "      <td>class</td>\n",
       "      <td>0.572262</td>\n",
       "      <td>regression</td>\n",
       "      <td>True</td>\n",
       "      <td>mean absolute error</td>\n",
       "      <td>0.428</td>\n",
       "      <td>0.183072</td>\n",
       "      <td>DecisionTreeRegressor()</td>\n",
       "    </tr>\n",
       "    <tr>\n",
       "      <th>28</th>\n",
       "      <td>competitiveness</td>\n",
       "      <td>industrial_risk</td>\n",
       "      <td>0.000000</td>\n",
       "      <td>regression</td>\n",
       "      <td>True</td>\n",
       "      <td>mean absolute error</td>\n",
       "      <td>0.338</td>\n",
       "      <td>0.352752</td>\n",
       "      <td>DecisionTreeRegressor()</td>\n",
       "    </tr>\n",
       "    <tr>\n",
       "      <th>29</th>\n",
       "      <td>competitiveness</td>\n",
       "      <td>management_risk</td>\n",
       "      <td>0.093487</td>\n",
       "      <td>regression</td>\n",
       "      <td>True</td>\n",
       "      <td>mean absolute error</td>\n",
       "      <td>0.362</td>\n",
       "      <td>0.328158</td>\n",
       "      <td>DecisionTreeRegressor()</td>\n",
       "    </tr>\n",
       "    <tr>\n",
       "      <th>30</th>\n",
       "      <td>competitiveness</td>\n",
       "      <td>financial_flexibility</td>\n",
       "      <td>0.441525</td>\n",
       "      <td>regression</td>\n",
       "      <td>True</td>\n",
       "      <td>mean absolute error</td>\n",
       "      <td>0.352</td>\n",
       "      <td>0.196583</td>\n",
       "      <td>DecisionTreeRegressor()</td>\n",
       "    </tr>\n",
       "    <tr>\n",
       "      <th>31</th>\n",
       "      <td>competitiveness</td>\n",
       "      <td>credibility</td>\n",
       "      <td>0.295761</td>\n",
       "      <td>regression</td>\n",
       "      <td>True</td>\n",
       "      <td>mean absolute error</td>\n",
       "      <td>0.346</td>\n",
       "      <td>0.243667</td>\n",
       "      <td>DecisionTreeRegressor()</td>\n",
       "    </tr>\n",
       "    <tr>\n",
       "      <th>32</th>\n",
       "      <td>competitiveness</td>\n",
       "      <td>competitiveness</td>\n",
       "      <td>1.000000</td>\n",
       "      <td>predict_itself</td>\n",
       "      <td>True</td>\n",
       "      <td>None</td>\n",
       "      <td>0.000</td>\n",
       "      <td>1.000000</td>\n",
       "      <td>None</td>\n",
       "    </tr>\n",
       "    <tr>\n",
       "      <th>33</th>\n",
       "      <td>competitiveness</td>\n",
       "      <td>operating_risk</td>\n",
       "      <td>0.039783</td>\n",
       "      <td>regression</td>\n",
       "      <td>True</td>\n",
       "      <td>mean absolute error</td>\n",
       "      <td>0.386</td>\n",
       "      <td>0.370644</td>\n",
       "      <td>DecisionTreeRegressor()</td>\n",
       "    </tr>\n",
       "    <tr>\n",
       "      <th>34</th>\n",
       "      <td>competitiveness</td>\n",
       "      <td>class</td>\n",
       "      <td>0.928592</td>\n",
       "      <td>regression</td>\n",
       "      <td>True</td>\n",
       "      <td>mean absolute error</td>\n",
       "      <td>0.428</td>\n",
       "      <td>0.030563</td>\n",
       "      <td>DecisionTreeRegressor()</td>\n",
       "    </tr>\n",
       "    <tr>\n",
       "      <th>35</th>\n",
       "      <td>operating_risk</td>\n",
       "      <td>industrial_risk</td>\n",
       "      <td>0.000000</td>\n",
       "      <td>regression</td>\n",
       "      <td>True</td>\n",
       "      <td>mean absolute error</td>\n",
       "      <td>0.338</td>\n",
       "      <td>0.356882</td>\n",
       "      <td>DecisionTreeRegressor()</td>\n",
       "    </tr>\n",
       "    <tr>\n",
       "      <th>36</th>\n",
       "      <td>operating_risk</td>\n",
       "      <td>management_risk</td>\n",
       "      <td>0.001124</td>\n",
       "      <td>regression</td>\n",
       "      <td>True</td>\n",
       "      <td>mean absolute error</td>\n",
       "      <td>0.362</td>\n",
       "      <td>0.361593</td>\n",
       "      <td>DecisionTreeRegressor()</td>\n",
       "    </tr>\n",
       "    <tr>\n",
       "      <th>37</th>\n",
       "      <td>operating_risk</td>\n",
       "      <td>financial_flexibility</td>\n",
       "      <td>0.000000</td>\n",
       "      <td>regression</td>\n",
       "      <td>True</td>\n",
       "      <td>mean absolute error</td>\n",
       "      <td>0.352</td>\n",
       "      <td>0.353479</td>\n",
       "      <td>DecisionTreeRegressor()</td>\n",
       "    </tr>\n",
       "    <tr>\n",
       "      <th>38</th>\n",
       "      <td>operating_risk</td>\n",
       "      <td>credibility</td>\n",
       "      <td>0.000000</td>\n",
       "      <td>regression</td>\n",
       "      <td>True</td>\n",
       "      <td>mean absolute error</td>\n",
       "      <td>0.346</td>\n",
       "      <td>0.354749</td>\n",
       "      <td>DecisionTreeRegressor()</td>\n",
       "    </tr>\n",
       "    <tr>\n",
       "      <th>39</th>\n",
       "      <td>operating_risk</td>\n",
       "      <td>competitiveness</td>\n",
       "      <td>0.000000</td>\n",
       "      <td>regression</td>\n",
       "      <td>True</td>\n",
       "      <td>mean absolute error</td>\n",
       "      <td>0.388</td>\n",
       "      <td>0.391914</td>\n",
       "      <td>DecisionTreeRegressor()</td>\n",
       "    </tr>\n",
       "    <tr>\n",
       "      <th>40</th>\n",
       "      <td>operating_risk</td>\n",
       "      <td>operating_risk</td>\n",
       "      <td>1.000000</td>\n",
       "      <td>predict_itself</td>\n",
       "      <td>True</td>\n",
       "      <td>None</td>\n",
       "      <td>0.000</td>\n",
       "      <td>1.000000</td>\n",
       "      <td>None</td>\n",
       "    </tr>\n",
       "    <tr>\n",
       "      <th>41</th>\n",
       "      <td>operating_risk</td>\n",
       "      <td>class</td>\n",
       "      <td>0.000000</td>\n",
       "      <td>regression</td>\n",
       "      <td>True</td>\n",
       "      <td>mean absolute error</td>\n",
       "      <td>0.428</td>\n",
       "      <td>0.456369</td>\n",
       "      <td>DecisionTreeRegressor()</td>\n",
       "    </tr>\n",
       "    <tr>\n",
       "      <th>42</th>\n",
       "      <td>class</td>\n",
       "      <td>industrial_risk</td>\n",
       "      <td>0.000000</td>\n",
       "      <td>regression</td>\n",
       "      <td>True</td>\n",
       "      <td>mean absolute error</td>\n",
       "      <td>0.338</td>\n",
       "      <td>0.351493</td>\n",
       "      <td>DecisionTreeRegressor()</td>\n",
       "    </tr>\n",
       "    <tr>\n",
       "      <th>43</th>\n",
       "      <td>class</td>\n",
       "      <td>management_risk</td>\n",
       "      <td>0.106567</td>\n",
       "      <td>regression</td>\n",
       "      <td>True</td>\n",
       "      <td>mean absolute error</td>\n",
       "      <td>0.362</td>\n",
       "      <td>0.323423</td>\n",
       "      <td>DecisionTreeRegressor()</td>\n",
       "    </tr>\n",
       "    <tr>\n",
       "      <th>44</th>\n",
       "      <td>class</td>\n",
       "      <td>financial_flexibility</td>\n",
       "      <td>0.458153</td>\n",
       "      <td>regression</td>\n",
       "      <td>True</td>\n",
       "      <td>mean absolute error</td>\n",
       "      <td>0.352</td>\n",
       "      <td>0.190730</td>\n",
       "      <td>DecisionTreeRegressor()</td>\n",
       "    </tr>\n",
       "    <tr>\n",
       "      <th>45</th>\n",
       "      <td>class</td>\n",
       "      <td>credibility</td>\n",
       "      <td>0.326136</td>\n",
       "      <td>regression</td>\n",
       "      <td>True</td>\n",
       "      <td>mean absolute error</td>\n",
       "      <td>0.346</td>\n",
       "      <td>0.233157</td>\n",
       "      <td>DecisionTreeRegressor()</td>\n",
       "    </tr>\n",
       "    <tr>\n",
       "      <th>46</th>\n",
       "      <td>class</td>\n",
       "      <td>competitiveness</td>\n",
       "      <td>0.619267</td>\n",
       "      <td>regression</td>\n",
       "      <td>True</td>\n",
       "      <td>mean absolute error</td>\n",
       "      <td>0.388</td>\n",
       "      <td>0.147724</td>\n",
       "      <td>DecisionTreeRegressor()</td>\n",
       "    </tr>\n",
       "    <tr>\n",
       "      <th>47</th>\n",
       "      <td>class</td>\n",
       "      <td>operating_risk</td>\n",
       "      <td>0.031648</td>\n",
       "      <td>regression</td>\n",
       "      <td>True</td>\n",
       "      <td>mean absolute error</td>\n",
       "      <td>0.386</td>\n",
       "      <td>0.373784</td>\n",
       "      <td>DecisionTreeRegressor()</td>\n",
       "    </tr>\n",
       "    <tr>\n",
       "      <th>48</th>\n",
       "      <td>class</td>\n",
       "      <td>class</td>\n",
       "      <td>1.000000</td>\n",
       "      <td>predict_itself</td>\n",
       "      <td>True</td>\n",
       "      <td>None</td>\n",
       "      <td>0.000</td>\n",
       "      <td>1.000000</td>\n",
       "      <td>None</td>\n",
       "    </tr>\n",
       "  </tbody>\n",
       "</table>\n",
       "</div>"
      ],
      "text/plain": [
       "                        x                      y   ppscore            case  \\\n",
       "0         industrial_risk        industrial_risk  1.000000  predict_itself   \n",
       "1         industrial_risk        management_risk  0.108761      regression   \n",
       "2         industrial_risk  financial_flexibility  0.000000      regression   \n",
       "3         industrial_risk            credibility  0.000000      regression   \n",
       "4         industrial_risk        competitiveness  0.015113      regression   \n",
       "5         industrial_risk         operating_risk  0.000000      regression   \n",
       "6         industrial_risk                  class  0.000000      regression   \n",
       "7         management_risk        industrial_risk  0.000000      regression   \n",
       "8         management_risk        management_risk  1.000000  predict_itself   \n",
       "9         management_risk  financial_flexibility  0.042517      regression   \n",
       "10        management_risk            credibility  0.000000      regression   \n",
       "11        management_risk        competitiveness  0.022214      regression   \n",
       "12        management_risk         operating_risk  0.000000      regression   \n",
       "13        management_risk                  class  0.010108      regression   \n",
       "14  financial_flexibility        industrial_risk  0.000000      regression   \n",
       "15  financial_flexibility        management_risk  0.049875      regression   \n",
       "16  financial_flexibility  financial_flexibility  1.000000  predict_itself   \n",
       "17  financial_flexibility            credibility  0.139462      regression   \n",
       "18  financial_flexibility        competitiveness  0.362923      regression   \n",
       "19  financial_flexibility         operating_risk  0.000000      regression   \n",
       "20  financial_flexibility                  class  0.634376      regression   \n",
       "21            credibility        industrial_risk  0.000000      regression   \n",
       "22            credibility        management_risk  0.060903      regression   \n",
       "23            credibility  financial_flexibility  0.303439      regression   \n",
       "24            credibility            credibility  1.000000  predict_itself   \n",
       "25            credibility        competitiveness  0.358299      regression   \n",
       "26            credibility         operating_risk  0.024039      regression   \n",
       "27            credibility                  class  0.572262      regression   \n",
       "28        competitiveness        industrial_risk  0.000000      regression   \n",
       "29        competitiveness        management_risk  0.093487      regression   \n",
       "30        competitiveness  financial_flexibility  0.441525      regression   \n",
       "31        competitiveness            credibility  0.295761      regression   \n",
       "32        competitiveness        competitiveness  1.000000  predict_itself   \n",
       "33        competitiveness         operating_risk  0.039783      regression   \n",
       "34        competitiveness                  class  0.928592      regression   \n",
       "35         operating_risk        industrial_risk  0.000000      regression   \n",
       "36         operating_risk        management_risk  0.001124      regression   \n",
       "37         operating_risk  financial_flexibility  0.000000      regression   \n",
       "38         operating_risk            credibility  0.000000      regression   \n",
       "39         operating_risk        competitiveness  0.000000      regression   \n",
       "40         operating_risk         operating_risk  1.000000  predict_itself   \n",
       "41         operating_risk                  class  0.000000      regression   \n",
       "42                  class        industrial_risk  0.000000      regression   \n",
       "43                  class        management_risk  0.106567      regression   \n",
       "44                  class  financial_flexibility  0.458153      regression   \n",
       "45                  class            credibility  0.326136      regression   \n",
       "46                  class        competitiveness  0.619267      regression   \n",
       "47                  class         operating_risk  0.031648      regression   \n",
       "48                  class                  class  1.000000  predict_itself   \n",
       "\n",
       "    is_valid_score               metric  baseline_score  model_score  \\\n",
       "0             True                 None           0.000     1.000000   \n",
       "1             True  mean absolute error           0.362     0.322629   \n",
       "2             True  mean absolute error           0.352     0.352440   \n",
       "3             True  mean absolute error           0.346     0.361087   \n",
       "4             True  mean absolute error           0.388     0.382136   \n",
       "5             True  mean absolute error           0.386     0.387298   \n",
       "6             True  mean absolute error           0.428     0.463702   \n",
       "7             True  mean absolute error           0.338     0.348953   \n",
       "8             True                 None           0.000     1.000000   \n",
       "9             True  mean absolute error           0.352     0.337034   \n",
       "10            True  mean absolute error           0.346     0.351594   \n",
       "11            True  mean absolute error           0.388     0.379381   \n",
       "12            True  mean absolute error           0.386     0.389833   \n",
       "13            True  mean absolute error           0.428     0.423674   \n",
       "14            True  mean absolute error           0.338     0.354482   \n",
       "15            True  mean absolute error           0.362     0.343945   \n",
       "16            True                 None           0.000     1.000000   \n",
       "17            True  mean absolute error           0.346     0.297746   \n",
       "18            True  mean absolute error           0.388     0.247186   \n",
       "19            True  mean absolute error           0.386     0.391080   \n",
       "20            True  mean absolute error           0.428     0.156487   \n",
       "21            True  mean absolute error           0.338     0.353048   \n",
       "22            True  mean absolute error           0.362     0.339953   \n",
       "23            True  mean absolute error           0.352     0.245190   \n",
       "24            True                 None           0.000     1.000000   \n",
       "25            True  mean absolute error           0.388     0.248980   \n",
       "26            True  mean absolute error           0.386     0.376721   \n",
       "27            True  mean absolute error           0.428     0.183072   \n",
       "28            True  mean absolute error           0.338     0.352752   \n",
       "29            True  mean absolute error           0.362     0.328158   \n",
       "30            True  mean absolute error           0.352     0.196583   \n",
       "31            True  mean absolute error           0.346     0.243667   \n",
       "32            True                 None           0.000     1.000000   \n",
       "33            True  mean absolute error           0.386     0.370644   \n",
       "34            True  mean absolute error           0.428     0.030563   \n",
       "35            True  mean absolute error           0.338     0.356882   \n",
       "36            True  mean absolute error           0.362     0.361593   \n",
       "37            True  mean absolute error           0.352     0.353479   \n",
       "38            True  mean absolute error           0.346     0.354749   \n",
       "39            True  mean absolute error           0.388     0.391914   \n",
       "40            True                 None           0.000     1.000000   \n",
       "41            True  mean absolute error           0.428     0.456369   \n",
       "42            True  mean absolute error           0.338     0.351493   \n",
       "43            True  mean absolute error           0.362     0.323423   \n",
       "44            True  mean absolute error           0.352     0.190730   \n",
       "45            True  mean absolute error           0.346     0.233157   \n",
       "46            True  mean absolute error           0.388     0.147724   \n",
       "47            True  mean absolute error           0.386     0.373784   \n",
       "48            True                 None           0.000     1.000000   \n",
       "\n",
       "                      model  \n",
       "0                      None  \n",
       "1   DecisionTreeRegressor()  \n",
       "2   DecisionTreeRegressor()  \n",
       "3   DecisionTreeRegressor()  \n",
       "4   DecisionTreeRegressor()  \n",
       "5   DecisionTreeRegressor()  \n",
       "6   DecisionTreeRegressor()  \n",
       "7   DecisionTreeRegressor()  \n",
       "8                      None  \n",
       "9   DecisionTreeRegressor()  \n",
       "10  DecisionTreeRegressor()  \n",
       "11  DecisionTreeRegressor()  \n",
       "12  DecisionTreeRegressor()  \n",
       "13  DecisionTreeRegressor()  \n",
       "14  DecisionTreeRegressor()  \n",
       "15  DecisionTreeRegressor()  \n",
       "16                     None  \n",
       "17  DecisionTreeRegressor()  \n",
       "18  DecisionTreeRegressor()  \n",
       "19  DecisionTreeRegressor()  \n",
       "20  DecisionTreeRegressor()  \n",
       "21  DecisionTreeRegressor()  \n",
       "22  DecisionTreeRegressor()  \n",
       "23  DecisionTreeRegressor()  \n",
       "24                     None  \n",
       "25  DecisionTreeRegressor()  \n",
       "26  DecisionTreeRegressor()  \n",
       "27  DecisionTreeRegressor()  \n",
       "28  DecisionTreeRegressor()  \n",
       "29  DecisionTreeRegressor()  \n",
       "30  DecisionTreeRegressor()  \n",
       "31  DecisionTreeRegressor()  \n",
       "32                     None  \n",
       "33  DecisionTreeRegressor()  \n",
       "34  DecisionTreeRegressor()  \n",
       "35  DecisionTreeRegressor()  \n",
       "36  DecisionTreeRegressor()  \n",
       "37  DecisionTreeRegressor()  \n",
       "38  DecisionTreeRegressor()  \n",
       "39  DecisionTreeRegressor()  \n",
       "40                     None  \n",
       "41  DecisionTreeRegressor()  \n",
       "42  DecisionTreeRegressor()  \n",
       "43  DecisionTreeRegressor()  \n",
       "44  DecisionTreeRegressor()  \n",
       "45  DecisionTreeRegressor()  \n",
       "46  DecisionTreeRegressor()  \n",
       "47  DecisionTreeRegressor()  \n",
       "48                     None  "
      ]
     },
     "execution_count": 18,
     "metadata": {},
     "output_type": "execute_result"
    }
   ],
   "source": [
    "pps.matrix(data)"
   ]
  },
  {
   "cell_type": "code",
   "execution_count": 19,
   "id": "9462fd86",
   "metadata": {
    "executionInfo": {
     "elapsed": 12,
     "status": "aborted",
     "timestamp": 1649864895818,
     "user": {
      "displayName": "Nishant Bhavsar",
      "userId": "00570304739136829060"
     },
     "user_tz": -330
    },
    "id": "9462fd86"
   },
   "outputs": [],
   "source": [
    "array = data.values\n",
    "X = array[:,:-1]\n",
    "Y = array[:,-1]\n",
    "test = SelectKBest(score_func=chi2, k=4)\n",
    "fit = test.fit(X, Y)"
   ]
  },
  {
   "cell_type": "code",
   "execution_count": 20,
   "id": "e3937d09",
   "metadata": {},
   "outputs": [
    {
     "name": "stdout",
     "output_type": "stream",
     "text": [
      "[ 4.22529844  9.40719007 60.23724218 52.30725081 82.1862519   6.4581291 ]\n"
     ]
    }
   ],
   "source": [
    "set_printoptions(suppress = True)\n",
    "print(fit.scores_)\n",
    "features = fit.transform(X)"
   ]
  },
  {
   "cell_type": "code",
   "execution_count": 21,
   "id": "293c0721",
   "metadata": {},
   "outputs": [
    {
     "name": "stderr",
     "output_type": "stream",
     "text": [
      "C:\\Anaconda\\lib\\site-packages\\sklearn\\utils\\validation.py:70: FutureWarning: Pass n_features_to_select=3 as keyword args. From version 1.0 (renaming of 0.25) passing these as positional arguments will result in an error\n",
      "  warnings.warn(f\"Pass {args_msg} as keyword args. From version \"\n"
     ]
    }
   ],
   "source": [
    "model = LogisticRegression(max_iter=400)\n",
    "rfe = RFE(model, 3)\n",
    "fit = rfe.fit(X, Y)"
   ]
  },
  {
   "cell_type": "code",
   "execution_count": 22,
   "id": "77c0508e",
   "metadata": {},
   "outputs": [
    {
     "data": {
      "text/plain": [
       "array([3, 2, 1, 1, 1, 4])"
      ]
     },
     "execution_count": 22,
     "metadata": {},
     "output_type": "execute_result"
    }
   ],
   "source": [
    "fit.ranking_"
   ]
  },
  {
   "cell_type": "code",
   "execution_count": 23,
   "id": "d7cb282e",
   "metadata": {},
   "outputs": [],
   "source": [
    "feature_scores = { 'Features' : pd.Series(['industrial_risk', 'management_risk', 'financial_flexibility', 'credibility', 'competitiveness','operating_risk'],\n",
    "                       index =['0', '1', '2', '3','4','5']),\n",
    "      'Correlation' : pd.Series([-0.2278, -0.3708, 0.7510, 0.7559, 0.8994,0.2797],\n",
    "                        index =['0', '1', '2', '3','4','5']),\n",
    "      'chi2_score' : pd.Series([4.2252, 9.4071, 60.2372, 52.3072, 82.1862, 6.4581],\n",
    "                        index =['0', '1', '2', '3','4','5']),\n",
    "      'RFE ranking' : pd.Series([3, 2, 1, 1, 1, 4],\n",
    "                        index =['0', '1', '2', '3','4','5']),\n",
    "    }"
   ]
  },
  {
   "cell_type": "code",
   "execution_count": 24,
   "id": "022b2e2e",
   "metadata": {},
   "outputs": [
    {
     "data": {
      "text/html": [
       "<div>\n",
       "<style scoped>\n",
       "    .dataframe tbody tr th:only-of-type {\n",
       "        vertical-align: middle;\n",
       "    }\n",
       "\n",
       "    .dataframe tbody tr th {\n",
       "        vertical-align: top;\n",
       "    }\n",
       "\n",
       "    .dataframe thead th {\n",
       "        text-align: right;\n",
       "    }\n",
       "</style>\n",
       "<table border=\"1\" class=\"dataframe\">\n",
       "  <thead>\n",
       "    <tr style=\"text-align: right;\">\n",
       "      <th></th>\n",
       "      <th>Features</th>\n",
       "      <th>Correlation</th>\n",
       "      <th>chi2_score</th>\n",
       "      <th>RFE ranking</th>\n",
       "    </tr>\n",
       "  </thead>\n",
       "  <tbody>\n",
       "    <tr>\n",
       "      <th>0</th>\n",
       "      <td>industrial_risk</td>\n",
       "      <td>-0.2278</td>\n",
       "      <td>4.2252</td>\n",
       "      <td>3</td>\n",
       "    </tr>\n",
       "    <tr>\n",
       "      <th>1</th>\n",
       "      <td>management_risk</td>\n",
       "      <td>-0.3708</td>\n",
       "      <td>9.4071</td>\n",
       "      <td>2</td>\n",
       "    </tr>\n",
       "    <tr>\n",
       "      <th>2</th>\n",
       "      <td>financial_flexibility</td>\n",
       "      <td>0.7510</td>\n",
       "      <td>60.2372</td>\n",
       "      <td>1</td>\n",
       "    </tr>\n",
       "    <tr>\n",
       "      <th>3</th>\n",
       "      <td>credibility</td>\n",
       "      <td>0.7559</td>\n",
       "      <td>52.3072</td>\n",
       "      <td>1</td>\n",
       "    </tr>\n",
       "    <tr>\n",
       "      <th>4</th>\n",
       "      <td>competitiveness</td>\n",
       "      <td>0.8994</td>\n",
       "      <td>82.1862</td>\n",
       "      <td>1</td>\n",
       "    </tr>\n",
       "    <tr>\n",
       "      <th>5</th>\n",
       "      <td>operating_risk</td>\n",
       "      <td>0.2797</td>\n",
       "      <td>6.4581</td>\n",
       "      <td>4</td>\n",
       "    </tr>\n",
       "  </tbody>\n",
       "</table>\n",
       "</div>"
      ],
      "text/plain": [
       "                Features  Correlation  chi2_score  RFE ranking\n",
       "0        industrial_risk      -0.2278      4.2252            3\n",
       "1        management_risk      -0.3708      9.4071            2\n",
       "2  financial_flexibility       0.7510     60.2372            1\n",
       "3            credibility       0.7559     52.3072            1\n",
       "4        competitiveness       0.8994     82.1862            1\n",
       "5         operating_risk       0.2797      6.4581            4"
      ]
     },
     "execution_count": 24,
     "metadata": {},
     "output_type": "execute_result"
    }
   ],
   "source": [
    "df = pd.DataFrame(feature_scores)\n",
    "df"
   ]
  },
  {
   "cell_type": "code",
   "execution_count": 25,
   "id": "623bfca1",
   "metadata": {},
   "outputs": [],
   "source": [
    "new_data = data.drop(['industrial_risk','management_risk','operating_risk'],axis = 1)"
   ]
  },
  {
   "cell_type": "code",
   "execution_count": 26,
   "id": "ccc9b8fb",
   "metadata": {},
   "outputs": [
    {
     "data": {
      "text/html": [
       "<div>\n",
       "<style scoped>\n",
       "    .dataframe tbody tr th:only-of-type {\n",
       "        vertical-align: middle;\n",
       "    }\n",
       "\n",
       "    .dataframe tbody tr th {\n",
       "        vertical-align: top;\n",
       "    }\n",
       "\n",
       "    .dataframe thead th {\n",
       "        text-align: right;\n",
       "    }\n",
       "</style>\n",
       "<table border=\"1\" class=\"dataframe\">\n",
       "  <thead>\n",
       "    <tr style=\"text-align: right;\">\n",
       "      <th></th>\n",
       "      <th>financial_flexibility</th>\n",
       "      <th>credibility</th>\n",
       "      <th>competitiveness</th>\n",
       "      <th>class</th>\n",
       "    </tr>\n",
       "  </thead>\n",
       "  <tbody>\n",
       "    <tr>\n",
       "      <th>0</th>\n",
       "      <td>0.0</td>\n",
       "      <td>0.0</td>\n",
       "      <td>0.0</td>\n",
       "      <td>0</td>\n",
       "    </tr>\n",
       "    <tr>\n",
       "      <th>1</th>\n",
       "      <td>0.0</td>\n",
       "      <td>0.0</td>\n",
       "      <td>0.0</td>\n",
       "      <td>0</td>\n",
       "    </tr>\n",
       "    <tr>\n",
       "      <th>2</th>\n",
       "      <td>0.0</td>\n",
       "      <td>0.0</td>\n",
       "      <td>0.0</td>\n",
       "      <td>0</td>\n",
       "    </tr>\n",
       "    <tr>\n",
       "      <th>3</th>\n",
       "      <td>0.0</td>\n",
       "      <td>0.5</td>\n",
       "      <td>0.0</td>\n",
       "      <td>0</td>\n",
       "    </tr>\n",
       "    <tr>\n",
       "      <th>4</th>\n",
       "      <td>0.0</td>\n",
       "      <td>0.0</td>\n",
       "      <td>0.0</td>\n",
       "      <td>0</td>\n",
       "    </tr>\n",
       "  </tbody>\n",
       "</table>\n",
       "</div>"
      ],
      "text/plain": [
       "   financial_flexibility  credibility  competitiveness  class\n",
       "0                    0.0          0.0              0.0      0\n",
       "1                    0.0          0.0              0.0      0\n",
       "2                    0.0          0.0              0.0      0\n",
       "3                    0.0          0.5              0.0      0\n",
       "4                    0.0          0.0              0.0      0"
      ]
     },
     "execution_count": 26,
     "metadata": {},
     "output_type": "execute_result"
    }
   ],
   "source": [
    "new_data.head()"
   ]
  },
  {
   "cell_type": "markdown",
   "id": "d725ca50",
   "metadata": {},
   "source": [
    "# MODEL VALIDATION"
   ]
  },
  {
   "cell_type": "code",
   "execution_count": 27,
   "id": "e5115aac",
   "metadata": {},
   "outputs": [],
   "source": [
    "x = new_data.iloc[:,:-1].values\n",
    "y = new_data.iloc[:,-1].values"
   ]
  },
  {
   "cell_type": "code",
   "execution_count": 28,
   "id": "ab63eb56",
   "metadata": {},
   "outputs": [
    {
     "data": {
      "text/plain": [
       "100.0"
      ]
     },
     "execution_count": 28,
     "metadata": {},
     "output_type": "execute_result"
    }
   ],
   "source": [
    "#evaluate using train test split \n",
    "\n",
    "X_train, X_test, Y_train, Y_test = train_test_split(x,y,test_size = 0.3,random_state= 7)\n",
    "\n",
    "log_model = LogisticRegression(max_iter=500,random_state = 7)\n",
    "log_model.fit(X_train, Y_train)\n",
    "\n",
    "\n",
    "result = log_model.score(X_test, Y_test)\n",
    "\n",
    "result*100.0"
   ]
  },
  {
   "cell_type": "code",
   "execution_count": 29,
   "id": "024050e2",
   "metadata": {},
   "outputs": [
    {
     "name": "stdout",
     "output_type": "stream",
     "text": [
      "99.60000000000001\n",
      "1.2000000000000008\n"
     ]
    }
   ],
   "source": [
    "#evaluate using Cross Validation\n",
    "\n",
    "kfold = KFold(n_splits = 10)\n",
    "model = LogisticRegression(max_iter=500,random_state = 7)\n",
    "\n",
    "results = cross_val_score(model, X, Y, cv=kfold)\n",
    "\n",
    "#Print results\n",
    "\n",
    "print(results.mean()*100.0)\n",
    "print(results.std()*100.0)"
   ]
  },
  {
   "cell_type": "markdown",
   "id": "e9172efd",
   "metadata": {},
   "source": [
    "# MODEL BUILDING"
   ]
  },
  {
   "cell_type": "code",
   "execution_count": 30,
   "id": "02566523",
   "metadata": {},
   "outputs": [],
   "source": [
    "X = new_data.iloc[:,:-1].values\n",
    "Y = new_data.iloc[:,-1].values"
   ]
  },
  {
   "cell_type": "markdown",
   "id": "767e75c3",
   "metadata": {},
   "source": [
    "# Logistic Regression"
   ]
  },
  {
   "cell_type": "code",
   "execution_count": 31,
   "id": "4cdff8a2",
   "metadata": {},
   "outputs": [
    {
     "name": "stdout",
     "output_type": "stream",
     "text": [
      "[[106   1]\n",
      " [  0 143]]\n"
     ]
    }
   ],
   "source": [
    "from sklearn.metrics import confusion_matrix\n",
    "from sklearn.linear_model import LogisticRegression\n",
    "\n",
    "log_model = LogisticRegression(max_iter=500,random_state = 7)\n",
    "log_model.fit(X,Y)\n",
    "\n",
    "log_pred = log_model.predict(X)\n",
    "\n",
    "confusion_matrix = confusion_matrix(Y,log_pred)\n",
    "print(confusion_matrix)\n"
   ]
  },
  {
   "cell_type": "code",
   "execution_count": 32,
   "id": "50a80ff5",
   "metadata": {},
   "outputs": [
    {
     "data": {
      "text/plain": [
       "100.0"
      ]
     },
     "execution_count": 32,
     "metadata": {},
     "output_type": "execute_result"
    }
   ],
   "source": [
    "log_result = ((107+143)/(107+0+0+143))*100\n",
    "log_result"
   ]
  },
  {
   "cell_type": "code",
   "execution_count": 33,
   "id": "5bf3f623",
   "metadata": {},
   "outputs": [
    {
     "name": "stdout",
     "output_type": "stream",
     "text": [
      "99.42999999999999\n",
      "100.0\n"
     ]
    }
   ],
   "source": [
    "log_model.fit(X_train, Y_train)\n",
    "\n",
    "log_result_train = np.round(log_model.score(X_train,Y_train),4)*100\n",
    "log_result_test  = np.round(log_model.score(X_test, Y_test),4)*100\n",
    "\n",
    "print(log_result_train)\n",
    "print(log_result_test)"
   ]
  },
  {
   "cell_type": "markdown",
   "id": "f277e4dc",
   "metadata": {},
   "source": [
    "# Decision Tree"
   ]
  },
  {
   "cell_type": "code",
   "execution_count": 34,
   "id": "b9fc4cc4",
   "metadata": {},
   "outputs": [
    {
     "name": "stdout",
     "output_type": "stream",
     "text": [
      "[[107   0]\n",
      " [  0 143]]\n"
     ]
    }
   ],
   "source": [
    "from sklearn.tree import DecisionTreeClassifier\n",
    "from sklearn.metrics import confusion_matrix\n",
    "\n",
    "dt_model = DecisionTreeClassifier(criterion='gini',random_state = 7)\n",
    "dt_model.fit(X,Y)\n",
    "\n",
    "y_pred = dt_model.predict(X)\n",
    "\n",
    "confusion_matrix = confusion_matrix(Y,y_pred)\n",
    "print(confusion_matrix)\n",
    "\n"
   ]
  },
  {
   "cell_type": "code",
   "execution_count": 35,
   "id": "ba8731f6",
   "metadata": {},
   "outputs": [
    {
     "data": {
      "text/plain": [
       "100.0"
      ]
     },
     "execution_count": 35,
     "metadata": {},
     "output_type": "execute_result"
    }
   ],
   "source": [
    "dt_result = ((107+143)/(107+0+0+143))*100\n",
    "dt_result"
   ]
  },
  {
   "cell_type": "code",
   "execution_count": 36,
   "id": "566d831e",
   "metadata": {},
   "outputs": [
    {
     "name": "stdout",
     "output_type": "stream",
     "text": [
      "100.0\n",
      "98.67\n"
     ]
    }
   ],
   "source": [
    "dt_model = DecisionTreeClassifier(criterion='gini',random_state = 7)\n",
    "dt_model.fit(X_train,Y_train)\n",
    "\n",
    "dt_result_train = np.round(dt_model.score(X_train,Y_train),4)*100\n",
    "dt_result_test  = np.round(dt_model.score(X_test,Y_test),4)*100\n",
    "\n",
    "print(dt_result_train)\n",
    "print(dt_result_test)"
   ]
  },
  {
   "cell_type": "markdown",
   "id": "95556661",
   "metadata": {},
   "source": [
    "# Naive Bayes"
   ]
  },
  {
   "cell_type": "code",
   "execution_count": 37,
   "id": "156feeca",
   "metadata": {},
   "outputs": [
    {
     "name": "stdout",
     "output_type": "stream",
     "text": [
      "[[102   5]\n",
      " [  0 143]]\n"
     ]
    }
   ],
   "source": [
    "from sklearn.naive_bayes import GaussianNB\n",
    "from sklearn.metrics import confusion_matrix\n",
    "\n",
    "nb_model = GaussianNB()\n",
    "nb_model.fit(X,Y)\n",
    "\n",
    "y_pred = nb_model.predict(X)\n",
    "\n",
    "confusion_matrix = confusion_matrix(Y,y_pred)\n",
    "print(confusion_matrix)"
   ]
  },
  {
   "cell_type": "code",
   "execution_count": 38,
   "id": "4fde3688",
   "metadata": {},
   "outputs": [
    {
     "data": {
      "text/plain": [
       "98.0"
      ]
     },
     "execution_count": 38,
     "metadata": {},
     "output_type": "execute_result"
    }
   ],
   "source": [
    "nb_result = ((102+143)/(102+5+0+143))*100\n",
    "nb_result "
   ]
  },
  {
   "cell_type": "code",
   "execution_count": 39,
   "id": "e89e24f0",
   "metadata": {},
   "outputs": [
    {
     "name": "stdout",
     "output_type": "stream",
     "text": [
      "97.71\n",
      "98.67\n"
     ]
    }
   ],
   "source": [
    "nb_model.fit(X_train,Y_train)\n",
    "\n",
    "nb_result_train = np.round(nb_model.score(X_train,Y_train),4)*100\n",
    "nb_result_test = np.round(nb_model.score(X_test,Y_test),4)*100\n",
    "\n",
    "print(nb_result_train)\n",
    "print(nb_result_test)"
   ]
  },
  {
   "cell_type": "markdown",
   "id": "06a34367",
   "metadata": {},
   "source": [
    "# KNN"
   ]
  },
  {
   "cell_type": "code",
   "execution_count": 40,
   "id": "4b9f67da",
   "metadata": {},
   "outputs": [
    {
     "name": "stdout",
     "output_type": "stream",
     "text": [
      "[[106   1]\n",
      " [  2 141]]\n"
     ]
    }
   ],
   "source": [
    "from sklearn.neighbors import KNeighborsClassifier\n",
    "from sklearn.metrics import confusion_matrix\n",
    "\n",
    "knn_model = KNeighborsClassifier(n_neighbors=3)\n",
    "knn_model.fit(X,Y)\n",
    "\n",
    "y_pred = knn_model.predict(X)\n",
    "\n",
    "confusion_matrix = confusion_matrix(Y,y_pred)\n",
    "print(confusion_matrix)"
   ]
  },
  {
   "cell_type": "code",
   "execution_count": 41,
   "id": "17572118",
   "metadata": {},
   "outputs": [
    {
     "data": {
      "text/plain": [
       "98.8"
      ]
     },
     "execution_count": 41,
     "metadata": {},
     "output_type": "execute_result"
    }
   ],
   "source": [
    "knn_result = ((106+141)/(106+1+2+141))*100\n",
    "knn_result "
   ]
  },
  {
   "cell_type": "code",
   "execution_count": 42,
   "id": "935f783e",
   "metadata": {},
   "outputs": [
    {
     "name": "stdout",
     "output_type": "stream",
     "text": [
      "99.42999999999999\n",
      "98.67\n"
     ]
    }
   ],
   "source": [
    "knn_model.fit(X_train,Y_train)\n",
    "\n",
    "knn_result_train = np.round(knn_model.score(X_train,Y_train),4)*100\n",
    "knn_result_test  = np.round(knn_model.score(X_test,Y_test),4)*100\n",
    "\n",
    "print(knn_result_train)\n",
    "print(knn_result_test)"
   ]
  },
  {
   "cell_type": "markdown",
   "id": "83c94936",
   "metadata": {},
   "source": [
    "# SVC"
   ]
  },
  {
   "cell_type": "code",
   "execution_count": 43,
   "id": "dcf30051",
   "metadata": {},
   "outputs": [
    {
     "name": "stdout",
     "output_type": "stream",
     "text": [
      "[[106   1]\n",
      " [  1 142]]\n"
     ]
    }
   ],
   "source": [
    "from sklearn.svm import SVC\n",
    "from sklearn.metrics import confusion_matrix\n",
    "\n",
    "svc_model = SVC()\n",
    "svc_model.fit(X,Y)\n",
    "\n",
    "y_pred = knn_model.predict(X)\n",
    "\n",
    "confusion_matrix = confusion_matrix(Y,y_pred)\n",
    "print(confusion_matrix)\n"
   ]
  },
  {
   "cell_type": "code",
   "execution_count": 44,
   "id": "bec24049",
   "metadata": {},
   "outputs": [
    {
     "data": {
      "text/plain": [
       "99.2"
      ]
     },
     "execution_count": 44,
     "metadata": {},
     "output_type": "execute_result"
    }
   ],
   "source": [
    "svc_result = ((106+142)/(106+1+1+142))*100\n",
    "svc_result "
   ]
  },
  {
   "cell_type": "code",
   "execution_count": 45,
   "id": "9e596430",
   "metadata": {},
   "outputs": [
    {
     "name": "stdout",
     "output_type": "stream",
     "text": [
      "100.0\n",
      "100.0\n"
     ]
    }
   ],
   "source": [
    "svc_model.fit(X_train,Y_train)\n",
    "\n",
    "svc_result_train = np.round(svc_model.score(X_train,Y_train),4)*100\n",
    "svc_result_test  = np.round(svc_model.score(X_test,Y_test),4)*100\n",
    "\n",
    "print(svc_result_train)\n",
    "print(svc_result_train)"
   ]
  },
  {
   "cell_type": "markdown",
   "id": "307710ee",
   "metadata": {},
   "source": [
    "# AdaBoost"
   ]
  },
  {
   "cell_type": "code",
   "execution_count": 46,
   "id": "f9cfe8f3",
   "metadata": {},
   "outputs": [
    {
     "name": "stdout",
     "output_type": "stream",
     "text": [
      "[[106   1]\n",
      " [  1 142]]\n"
     ]
    }
   ],
   "source": [
    "from sklearn.ensemble import AdaBoostClassifier\n",
    "from sklearn.metrics import confusion_matrix\n",
    "\n",
    "ada_model = AdaBoostClassifier(n_estimators = 3,random_state = 7)\n",
    "ada_model.fit(X,Y)\n",
    "\n",
    "y_pred = knn_model.predict(X)\n",
    "\n",
    "confusion_matrix = confusion_matrix(Y,y_pred)\n",
    "print(confusion_matrix)"
   ]
  },
  {
   "cell_type": "code",
   "execution_count": 47,
   "id": "1517ce05",
   "metadata": {},
   "outputs": [
    {
     "data": {
      "text/plain": [
       "99.2"
      ]
     },
     "execution_count": 47,
     "metadata": {},
     "output_type": "execute_result"
    }
   ],
   "source": [
    "ada_result = ((106+142)/(106+1+1+142))*100\n",
    "ada_result "
   ]
  },
  {
   "cell_type": "code",
   "execution_count": 48,
   "id": "45350646",
   "metadata": {},
   "outputs": [
    {
     "name": "stdout",
     "output_type": "stream",
     "text": [
      "100.0\n",
      "98.67\n"
     ]
    }
   ],
   "source": [
    "ada_model.fit(X_train,Y_train)\n",
    "\n",
    "ada_result_train = np.round(ada_model.score(X_train,Y_train),4)*100\n",
    "ada_result_test  = np.round(ada_model.score(X_test,Y_test),4)*100\n",
    "\n",
    "print(ada_result_train)\n",
    "print(ada_result_test)"
   ]
  },
  {
   "cell_type": "markdown",
   "id": "3c8ec4fc",
   "metadata": {},
   "source": [
    "# Bagging"
   ]
  },
  {
   "cell_type": "code",
   "execution_count": 49,
   "id": "b6e363fb",
   "metadata": {},
   "outputs": [
    {
     "name": "stdout",
     "output_type": "stream",
     "text": [
      "[[106   1]\n",
      " [  1 142]]\n"
     ]
    }
   ],
   "source": [
    "from sklearn.ensemble import BaggingClassifier\n",
    "from sklearn.tree import DecisionTreeClassifier\n",
    "from sklearn.metrics import confusion_matrix\n",
    "\n",
    "cart = DecisionTreeClassifier()\n",
    "bag_model = BaggingClassifier(base_estimator=cart, n_estimators=10,random_state = 7)\n",
    "bag_model.fit(X,Y)\n",
    "\n",
    "y_pred = knn_model.predict(X)\n",
    "\n",
    "confusion_matrix = confusion_matrix(Y,y_pred)\n",
    "print(confusion_matrix)"
   ]
  },
  {
   "cell_type": "code",
   "execution_count": 50,
   "id": "f0cb9e13",
   "metadata": {},
   "outputs": [
    {
     "data": {
      "text/plain": [
       "99.2"
      ]
     },
     "execution_count": 50,
     "metadata": {},
     "output_type": "execute_result"
    }
   ],
   "source": [
    "bag_result = ((106+142)/(106+1+1+142))*100\n",
    "bag_result "
   ]
  },
  {
   "cell_type": "code",
   "execution_count": 51,
   "id": "b3c0f33b",
   "metadata": {},
   "outputs": [
    {
     "name": "stdout",
     "output_type": "stream",
     "text": [
      "100.0\n",
      "98.67\n"
     ]
    }
   ],
   "source": [
    "bag_model.fit(X_train,Y_train)\n",
    "\n",
    "bag_result_train = np.round(bag_model.score(X_train,Y_train),4)*100\n",
    "bag_result_test  = np.round(bag_model.score(X_test,Y_test),4)*100\n",
    "\n",
    "print(bag_result_train)\n",
    "print(bag_result_test)"
   ]
  },
  {
   "cell_type": "markdown",
   "id": "07cbe0fd",
   "metadata": {},
   "source": [
    "# Random Forest"
   ]
  },
  {
   "cell_type": "code",
   "execution_count": 52,
   "id": "f5ed0b30",
   "metadata": {},
   "outputs": [
    {
     "name": "stdout",
     "output_type": "stream",
     "text": [
      "[[106   1]\n",
      " [  1 142]]\n"
     ]
    }
   ],
   "source": [
    "from sklearn.ensemble import RandomForestClassifier\n",
    "from sklearn.metrics import confusion_matrix\n",
    "\n",
    "rf_model = RandomForestClassifier(n_estimators=10, max_features=1,random_state = 7)\n",
    "rf_model.fit(X, Y)\n",
    "\n",
    "y_pred = knn_model.predict(X)\n",
    "\n",
    "confusion_matrix = confusion_matrix(Y,y_pred)\n",
    "print(confusion_matrix)"
   ]
  },
  {
   "cell_type": "code",
   "execution_count": 53,
   "id": "de7c98a5",
   "metadata": {},
   "outputs": [
    {
     "data": {
      "text/plain": [
       "99.2"
      ]
     },
     "execution_count": 53,
     "metadata": {},
     "output_type": "execute_result"
    }
   ],
   "source": [
    "rf_result = ((106+142)/(106+1+1+142))*100\n",
    "rf_result "
   ]
  },
  {
   "cell_type": "code",
   "execution_count": 54,
   "id": "85f5f6d7",
   "metadata": {},
   "outputs": [
    {
     "name": "stdout",
     "output_type": "stream",
     "text": [
      "100.0\n",
      "98.67\n"
     ]
    }
   ],
   "source": [
    "rf_model.fit(X_train, Y_train)\n",
    "\n",
    "rf_result_train = np.round(rf_model.score(X_train,Y_train),4)*100\n",
    "rf_result_test  = np.round(rf_model.score(X_test,Y_test),4)*100\n",
    "\n",
    "print(rf_result_train)\n",
    "print(rf_result_test)"
   ]
  },
  {
   "cell_type": "markdown",
   "id": "9cdeb89c",
   "metadata": {},
   "source": [
    "# Stacking"
   ]
  },
  {
   "cell_type": "code",
   "execution_count": 55,
   "id": "5ee7dab2",
   "metadata": {},
   "outputs": [
    {
     "name": "stdout",
     "output_type": "stream",
     "text": [
      "[[107   0]\n",
      " [  0 143]]\n"
     ]
    }
   ],
   "source": [
    "from sklearn.ensemble import VotingClassifier\n",
    "from sklearn.metrics import confusion_matrix\n",
    "\n",
    "estimators = []\n",
    "model1 = LogisticRegression(max_iter=500,random_state = 7)\n",
    "\n",
    "estimators.append(('logistic', model1))\n",
    "\n",
    "model2 = DecisionTreeClassifier()\n",
    "\n",
    "estimators.append(('cart', model2))\n",
    "\n",
    "model3 = SVC()\n",
    "\n",
    "estimators.append(('svm', model3))\n",
    "\n",
    "ensemble = VotingClassifier(estimators)\n",
    "ensemble.fit(X,Y)\n",
    "\n",
    "y_pred = ensemble.predict(X)\n",
    "\n",
    "confusion_matrix = confusion_matrix(Y,y_pred)\n",
    "print(confusion_matrix)"
   ]
  },
  {
   "cell_type": "code",
   "execution_count": 56,
   "id": "234b9ab5",
   "metadata": {},
   "outputs": [
    {
     "data": {
      "text/plain": [
       "100.0"
      ]
     },
     "execution_count": 56,
     "metadata": {},
     "output_type": "execute_result"
    }
   ],
   "source": [
    "ensemble_result = ((107+143)/(107+0+0+143))*100\n",
    "ensemble_result "
   ]
  },
  {
   "cell_type": "code",
   "execution_count": 57,
   "id": "2e026c98",
   "metadata": {},
   "outputs": [
    {
     "name": "stdout",
     "output_type": "stream",
     "text": [
      "100.0\n",
      "98.67\n"
     ]
    }
   ],
   "source": [
    "ensemble.fit(X_train,Y_train)\n",
    "\n",
    "ensemble_result_train = np.round(ensemble.score(X_train,Y_train),4)*100\n",
    "ensemble_result_test  = np.round(ensemble.score(X_test,Y_test),4)*100\n",
    "\n",
    "print(ensemble_result_train)\n",
    "print(ensemble_result_test)"
   ]
  },
  {
   "cell_type": "markdown",
   "id": "24ac3aab",
   "metadata": {},
   "source": [
    "# MODEL COMPARISION"
   ]
  },
  {
   "cell_type": "code",
   "execution_count": 58,
   "id": "f0e4eaf0",
   "metadata": {},
   "outputs": [
    {
     "data": {
      "text/html": [
       "<div>\n",
       "<style scoped>\n",
       "    .dataframe tbody tr th:only-of-type {\n",
       "        vertical-align: middle;\n",
       "    }\n",
       "\n",
       "    .dataframe tbody tr th {\n",
       "        vertical-align: top;\n",
       "    }\n",
       "\n",
       "    .dataframe thead th {\n",
       "        text-align: right;\n",
       "    }\n",
       "</style>\n",
       "<table border=\"1\" class=\"dataframe\">\n",
       "  <thead>\n",
       "    <tr style=\"text-align: right;\">\n",
       "      <th></th>\n",
       "      <th>Model</th>\n",
       "      <th>Training_accuracy</th>\n",
       "      <th>Testing_accuracy</th>\n",
       "      <th>Whole dataset accuracy</th>\n",
       "    </tr>\n",
       "  </thead>\n",
       "  <tbody>\n",
       "    <tr>\n",
       "      <th>0</th>\n",
       "      <td>Logistic Regression</td>\n",
       "      <td>99.43</td>\n",
       "      <td>100.00</td>\n",
       "      <td>100.0</td>\n",
       "    </tr>\n",
       "    <tr>\n",
       "      <th>1</th>\n",
       "      <td>Decision Tree</td>\n",
       "      <td>100.00</td>\n",
       "      <td>98.67</td>\n",
       "      <td>100.0</td>\n",
       "    </tr>\n",
       "    <tr>\n",
       "      <th>2</th>\n",
       "      <td>Naive Bayes</td>\n",
       "      <td>97.71</td>\n",
       "      <td>98.67</td>\n",
       "      <td>98.0</td>\n",
       "    </tr>\n",
       "    <tr>\n",
       "      <th>3</th>\n",
       "      <td>KNN</td>\n",
       "      <td>99.43</td>\n",
       "      <td>98.67</td>\n",
       "      <td>98.8</td>\n",
       "    </tr>\n",
       "    <tr>\n",
       "      <th>4</th>\n",
       "      <td>SVC</td>\n",
       "      <td>100.00</td>\n",
       "      <td>98.67</td>\n",
       "      <td>99.2</td>\n",
       "    </tr>\n",
       "    <tr>\n",
       "      <th>5</th>\n",
       "      <td>AdaBoost</td>\n",
       "      <td>100.00</td>\n",
       "      <td>98.67</td>\n",
       "      <td>99.2</td>\n",
       "    </tr>\n",
       "    <tr>\n",
       "      <th>6</th>\n",
       "      <td>Bagged Decision Tree</td>\n",
       "      <td>100.00</td>\n",
       "      <td>98.67</td>\n",
       "      <td>99.2</td>\n",
       "    </tr>\n",
       "    <tr>\n",
       "      <th>7</th>\n",
       "      <td>Random Forest</td>\n",
       "      <td>100.00</td>\n",
       "      <td>98.67</td>\n",
       "      <td>99.2</td>\n",
       "    </tr>\n",
       "    <tr>\n",
       "      <th>8</th>\n",
       "      <td>Voting Classifier</td>\n",
       "      <td>100.00</td>\n",
       "      <td>98.67</td>\n",
       "      <td>100.0</td>\n",
       "    </tr>\n",
       "  </tbody>\n",
       "</table>\n",
       "</div>"
      ],
      "text/plain": [
       "                  Model  Training_accuracy  Testing_accuracy  \\\n",
       "0   Logistic Regression              99.43            100.00   \n",
       "1         Decision Tree             100.00             98.67   \n",
       "2           Naive Bayes              97.71             98.67   \n",
       "3                   KNN              99.43             98.67   \n",
       "4                   SVC             100.00             98.67   \n",
       "5              AdaBoost             100.00             98.67   \n",
       "6  Bagged Decision Tree             100.00             98.67   \n",
       "7         Random Forest             100.00             98.67   \n",
       "8     Voting Classifier             100.00             98.67   \n",
       "\n",
       "   Whole dataset accuracy  \n",
       "0                   100.0  \n",
       "1                   100.0  \n",
       "2                    98.0  \n",
       "3                    98.8  \n",
       "4                    99.2  \n",
       "5                    99.2  \n",
       "6                    99.2  \n",
       "7                    99.2  \n",
       "8                   100.0  "
      ]
     },
     "execution_count": 58,
     "metadata": {},
     "output_type": "execute_result"
    }
   ],
   "source": [
    "scores_dict = {\n",
    "    \"Model\":['Logistic Regression','Decision Tree','Naive Bayes','KNN','SVC','AdaBoost',\n",
    "             'Bagged Decision Tree','Random Forest','Voting Classifier'],\n",
    "    \n",
    "    \"Training_accuracy\"      : [log_result_train, dt_result_train, nb_result_train, knn_result_train, svc_result_train,\n",
    "                                ada_result_train, bag_result_train, rf_result_train, ensemble_result_train], \n",
    "    \n",
    "    \"Testing_accuracy\"       : [log_result_test, dt_result_test, nb_result_test, knn_result_test, svc_result_test, \n",
    "                                ada_result_test, bag_result_test, rf_result_test, ensemble_result_test],\n",
    "    \n",
    "    \"Whole dataset accuracy\" : [log_result, dt_result,nb_result ,knn_result , svc_result, \n",
    "                                ada_result, bag_result, rf_result, ensemble_result],\n",
    "}\n",
    "\n",
    "scores_df = pd.DataFrame(scores_dict)\n",
    "\n",
    "scores_df"
   ]
  },
  {
   "cell_type": "code",
   "execution_count": 59,
   "id": "f03f4689",
   "metadata": {},
   "outputs": [],
   "source": [
    "plt.style.use('fivethirtyeight')"
   ]
  },
  {
   "cell_type": "code",
   "execution_count": 60,
   "id": "f254f3aa",
   "metadata": {},
   "outputs": [
    {
     "data": {
      "image/png": "[encoded data removed]",
      "text/plain": [
       "<Figure size 1440x576 with 1 Axes>"
      ]
     },
     "metadata": {},
     "output_type": "display_data"
    }
   ],
   "source": [
    "fig = plt.figure(figsize = (20,8))\n",
    "plt.ylim(95,100)\n",
    "plt.bar(scores_df.Model,scores_df.Training_accuracy)\n",
    "plt.title('Algorithm comparision(Training)',fontsize = 40)\n",
    "plt.show()"
   ]
  },
  {
   "cell_type": "code",
   "execution_count": 61,
   "id": "07199fda",
   "metadata": {},
   "outputs": [
    {
     "data": {
      "image/png": "[encoded data removed]",
      "text/plain": [
       "<Figure size 1440x576 with 1 Axes>"
      ]
     },
     "metadata": {},
     "output_type": "display_data"
    }
   ],
   "source": [
    "fig = plt.figure(figsize = (20,8))\n",
    "plt.ylim(95,100)\n",
    "plt.bar(scores_df.Model,scores_df.Testing_accuracy)\n",
    "plt.title('Algorithm comparision(Testing)',fontsize = 40)\n",
    "plt.show()"
   ]
  },
  {
   "cell_type": "code",
   "execution_count": 62,
   "id": "9c4ea4c0",
   "metadata": {},
   "outputs": [
    {
     "data": {
      "image/png": "[encoded data removed]",
      "text/plain": [
       "<Figure size 1440x576 with 1 Axes>"
      ]
     },
     "metadata": {},
     "output_type": "display_data"
    }
   ],
   "source": [
    "fig = plt.figure(figsize = (20,8))\n",
    "plt.ylim(95,100)\n",
    "plt.bar(scores_df.Model,scores_df['Whole dataset accuracy'])\n",
    "plt.title('Algorithm comparision(Whole Dataset)',fontsize = 40)\n",
    "plt.show()"
   ]
  },
  {
   "cell_type": "markdown",
   "id": "f3c8a3d8",
   "metadata": {},
   "source": [
    "# FINAL MODEL "
   ]
  },
  {
   "cell_type": "code",
   "execution_count": 63,
   "id": "f461e747",
   "metadata": {},
   "outputs": [],
   "source": [
    "from sklearn.linear_model import LogisticRegression\n",
    "\n",
    "final_model = LogisticRegression(max_iter=500,random_state = 7)\n",
    "final_model.fit(X_train,Y_train)\n",
    "\n",
    "log_pred = final_model.predict(X_test)"
   ]
  },
  {
   "cell_type": "code",
   "execution_count": 64,
   "id": "8a97e3e9",
   "metadata": {},
   "outputs": [
    {
     "name": "stdout",
     "output_type": "stream",
     "text": [
      "              precision    recall  f1-score   support\n",
      "\n",
      "           0       1.00      1.00      1.00        39\n",
      "           1       1.00      1.00      1.00        36\n",
      "\n",
      "    accuracy                           1.00        75\n",
      "   macro avg       1.00      1.00      1.00        75\n",
      "weighted avg       1.00      1.00      1.00        75\n",
      "\n"
     ]
    }
   ],
   "source": [
    "print(classification_report(Y_test,log_pred))"
   ]
  },
  {
   "cell_type": "markdown",
   "id": "01bf1b5f",
   "metadata": {},
   "source": [
    "# FINAL MODEL PREDICTIONS(Given data)"
   ]
  },
  {
   "cell_type": "code",
   "execution_count": 65,
   "id": "22a407a9",
   "metadata": {},
   "outputs": [
    {
     "data": {
      "text/plain": [
       "0    1\n",
       "1    1\n",
       "2    0\n",
       "3    0\n",
       "4    0\n",
       "5    1\n",
       "6    0\n",
       "7    1\n",
       "8    1\n",
       "9    1\n",
       "dtype: int32"
      ]
     },
     "execution_count": 65,
     "metadata": {},
     "output_type": "execute_result"
    }
   ],
   "source": [
    "actual = pd.Series(Y_test[:10])\n",
    "actual"
   ]
  },
  {
   "cell_type": "code",
   "execution_count": 66,
   "id": "8bffaf7b",
   "metadata": {},
   "outputs": [
    {
     "data": {
      "text/plain": [
       "array([1, 1, 0, 0, 0, 1, 0, 1, 1, 1])"
      ]
     },
     "execution_count": 66,
     "metadata": {},
     "output_type": "execute_result"
    }
   ],
   "source": [
    "predicted = log_pred[:10]\n",
    "predicted"
   ]
  },
  {
   "cell_type": "code",
   "execution_count": 67,
   "id": "0739117b",
   "metadata": {},
   "outputs": [
    {
     "data": {
      "text/html": [
       "<div>\n",
       "<style scoped>\n",
       "    .dataframe tbody tr th:only-of-type {\n",
       "        vertical-align: middle;\n",
       "    }\n",
       "\n",
       "    .dataframe tbody tr th {\n",
       "        vertical-align: top;\n",
       "    }\n",
       "\n",
       "    .dataframe thead th {\n",
       "        text-align: right;\n",
       "    }\n",
       "</style>\n",
       "<table border=\"1\" class=\"dataframe\">\n",
       "  <thead>\n",
       "    <tr style=\"text-align: right;\">\n",
       "      <th></th>\n",
       "      <th>actual</th>\n",
       "      <th>predicted_prob</th>\n",
       "    </tr>\n",
       "  </thead>\n",
       "  <tbody>\n",
       "    <tr>\n",
       "      <th>0</th>\n",
       "      <td>1</td>\n",
       "      <td>1</td>\n",
       "    </tr>\n",
       "    <tr>\n",
       "      <th>1</th>\n",
       "      <td>1</td>\n",
       "      <td>1</td>\n",
       "    </tr>\n",
       "    <tr>\n",
       "      <th>2</th>\n",
       "      <td>0</td>\n",
       "      <td>0</td>\n",
       "    </tr>\n",
       "    <tr>\n",
       "      <th>3</th>\n",
       "      <td>0</td>\n",
       "      <td>0</td>\n",
       "    </tr>\n",
       "    <tr>\n",
       "      <th>4</th>\n",
       "      <td>0</td>\n",
       "      <td>0</td>\n",
       "    </tr>\n",
       "    <tr>\n",
       "      <th>5</th>\n",
       "      <td>1</td>\n",
       "      <td>1</td>\n",
       "    </tr>\n",
       "    <tr>\n",
       "      <th>6</th>\n",
       "      <td>0</td>\n",
       "      <td>0</td>\n",
       "    </tr>\n",
       "    <tr>\n",
       "      <th>7</th>\n",
       "      <td>1</td>\n",
       "      <td>1</td>\n",
       "    </tr>\n",
       "    <tr>\n",
       "      <th>8</th>\n",
       "      <td>1</td>\n",
       "      <td>1</td>\n",
       "    </tr>\n",
       "    <tr>\n",
       "      <th>9</th>\n",
       "      <td>1</td>\n",
       "      <td>1</td>\n",
       "    </tr>\n",
       "  </tbody>\n",
       "</table>\n",
       "</div>"
      ],
      "text/plain": [
       "   actual  predicted_prob\n",
       "0       1               1\n",
       "1       1               1\n",
       "2       0               0\n",
       "3       0               0\n",
       "4       0               0\n",
       "5       1               1\n",
       "6       0               0\n",
       "7       1               1\n",
       "8       1               1\n",
       "9       1               1"
      ]
     },
     "execution_count": 67,
     "metadata": {},
     "output_type": "execute_result"
    }
   ],
   "source": [
    "pred_df= pd.DataFrame({'actual': actual,\n",
    "                         'predicted_prob': predicted})\n",
    "\n",
    "pred_df"
   ]
  },
  {
   "cell_type": "markdown",
   "id": "4630f19a",
   "metadata": {},
   "source": [
    "# FINAL MODEL PREDICTIONS(NEW DATA)"
   ]
  },
  {
   "cell_type": "code",
   "execution_count": 68,
   "id": "5bad16aa",
   "metadata": {},
   "outputs": [
    {
     "data": {
      "text/html": [
       "<div>\n",
       "<style scoped>\n",
       "    .dataframe tbody tr th:only-of-type {\n",
       "        vertical-align: middle;\n",
       "    }\n",
       "\n",
       "    .dataframe tbody tr th {\n",
       "        vertical-align: top;\n",
       "    }\n",
       "\n",
       "    .dataframe thead th {\n",
       "        text-align: right;\n",
       "    }\n",
       "</style>\n",
       "<table border=\"1\" class=\"dataframe\">\n",
       "  <thead>\n",
       "    <tr style=\"text-align: right;\">\n",
       "      <th></th>\n",
       "      <th>financial</th>\n",
       "      <th>Credible</th>\n",
       "      <th>Competition</th>\n",
       "    </tr>\n",
       "  </thead>\n",
       "  <tbody>\n",
       "    <tr>\n",
       "      <th>0</th>\n",
       "      <td>0.0</td>\n",
       "      <td>1.0</td>\n",
       "      <td>1.0</td>\n",
       "    </tr>\n",
       "    <tr>\n",
       "      <th>1</th>\n",
       "      <td>0.5</td>\n",
       "      <td>0.0</td>\n",
       "      <td>0.0</td>\n",
       "    </tr>\n",
       "    <tr>\n",
       "      <th>2</th>\n",
       "      <td>0.0</td>\n",
       "      <td>0.0</td>\n",
       "      <td>0.0</td>\n",
       "    </tr>\n",
       "    <tr>\n",
       "      <th>3</th>\n",
       "      <td>1.0</td>\n",
       "      <td>0.5</td>\n",
       "      <td>1.0</td>\n",
       "    </tr>\n",
       "    <tr>\n",
       "      <th>4</th>\n",
       "      <td>1.0</td>\n",
       "      <td>1.0</td>\n",
       "      <td>0.5</td>\n",
       "    </tr>\n",
       "    <tr>\n",
       "      <th>5</th>\n",
       "      <td>0.5</td>\n",
       "      <td>1.0</td>\n",
       "      <td>0.0</td>\n",
       "    </tr>\n",
       "    <tr>\n",
       "      <th>6</th>\n",
       "      <td>0.0</td>\n",
       "      <td>0.5</td>\n",
       "      <td>1.0</td>\n",
       "    </tr>\n",
       "  </tbody>\n",
       "</table>\n",
       "</div>"
      ],
      "text/plain": [
       "   financial  Credible  Competition\n",
       "0        0.0       1.0          1.0\n",
       "1        0.5       0.0          0.0\n",
       "2        0.0       0.0          0.0\n",
       "3        1.0       0.5          1.0\n",
       "4        1.0       1.0          0.5\n",
       "5        0.5       1.0          0.0\n",
       "6        0.0       0.5          1.0"
      ]
     },
     "execution_count": 68,
     "metadata": {},
     "output_type": "execute_result"
    }
   ],
   "source": [
    "scores_dict = {\n",
    "    \"financial\"   :[0.0,0.5,0.0,1.0,1.0,0.5,0.0],\n",
    "    \"Credible\"    : [1.0,0.0,0.0,0.5,1.0,1.0,0.5], \n",
    "    \"Competition\" : [1.0,0.0,0.0,1.0,0.5,0.0,1.0]\n",
    "}\n",
    "\n",
    "scores_df = pd.DataFrame(scores_dict)\n",
    "\n",
    "scores_df"
   ]
  },
  {
   "cell_type": "code",
   "execution_count": 69,
   "id": "81a758d9",
   "metadata": {},
   "outputs": [
    {
     "data": {
      "text/plain": [
       "array([[0. , 1. , 1. ],\n",
       "       [0.5, 0. , 0. ],\n",
       "       [0. , 0. , 0. ],\n",
       "       [1. , 0.5, 1. ],\n",
       "       [1. , 1. , 0.5],\n",
       "       [0.5, 1. , 0. ],\n",
       "       [0. , 0.5, 1. ]])"
      ]
     },
     "execution_count": 69,
     "metadata": {},
     "output_type": "execute_result"
    }
   ],
   "source": [
    "pred_data = scores_df.iloc[:,:].values\n",
    "pred_data"
   ]
  },
  {
   "cell_type": "code",
   "execution_count": 70,
   "id": "f417c05a",
   "metadata": {},
   "outputs": [
    {
     "data": {
      "text/html": [
       "<div>\n",
       "<style scoped>\n",
       "    .dataframe tbody tr th:only-of-type {\n",
       "        vertical-align: middle;\n",
       "    }\n",
       "\n",
       "    .dataframe tbody tr th {\n",
       "        vertical-align: top;\n",
       "    }\n",
       "\n",
       "    .dataframe thead th {\n",
       "        text-align: right;\n",
       "    }\n",
       "</style>\n",
       "<table border=\"1\" class=\"dataframe\">\n",
       "  <thead>\n",
       "    <tr style=\"text-align: right;\">\n",
       "      <th></th>\n",
       "      <th>financial</th>\n",
       "      <th>Credible</th>\n",
       "      <th>Competition</th>\n",
       "      <th>Outcome</th>\n",
       "    </tr>\n",
       "  </thead>\n",
       "  <tbody>\n",
       "    <tr>\n",
       "      <th>0</th>\n",
       "      <td>0.0</td>\n",
       "      <td>1.0</td>\n",
       "      <td>1.0</td>\n",
       "      <td>1</td>\n",
       "    </tr>\n",
       "    <tr>\n",
       "      <th>1</th>\n",
       "      <td>0.5</td>\n",
       "      <td>0.0</td>\n",
       "      <td>0.0</td>\n",
       "      <td>0</td>\n",
       "    </tr>\n",
       "    <tr>\n",
       "      <th>2</th>\n",
       "      <td>0.0</td>\n",
       "      <td>0.0</td>\n",
       "      <td>0.0</td>\n",
       "      <td>0</td>\n",
       "    </tr>\n",
       "    <tr>\n",
       "      <th>3</th>\n",
       "      <td>1.0</td>\n",
       "      <td>0.5</td>\n",
       "      <td>1.0</td>\n",
       "      <td>1</td>\n",
       "    </tr>\n",
       "    <tr>\n",
       "      <th>4</th>\n",
       "      <td>1.0</td>\n",
       "      <td>1.0</td>\n",
       "      <td>0.5</td>\n",
       "      <td>1</td>\n",
       "    </tr>\n",
       "    <tr>\n",
       "      <th>5</th>\n",
       "      <td>0.5</td>\n",
       "      <td>1.0</td>\n",
       "      <td>0.0</td>\n",
       "      <td>1</td>\n",
       "    </tr>\n",
       "    <tr>\n",
       "      <th>6</th>\n",
       "      <td>0.0</td>\n",
       "      <td>0.5</td>\n",
       "      <td>1.0</td>\n",
       "      <td>1</td>\n",
       "    </tr>\n",
       "  </tbody>\n",
       "</table>\n",
       "</div>"
      ],
      "text/plain": [
       "   financial  Credible  Competition  Outcome\n",
       "0        0.0       1.0          1.0        1\n",
       "1        0.5       0.0          0.0        0\n",
       "2        0.0       0.0          0.0        0\n",
       "3        1.0       0.5          1.0        1\n",
       "4        1.0       1.0          0.5        1\n",
       "5        0.5       1.0          0.0        1\n",
       "6        0.0       0.5          1.0        1"
      ]
     },
     "execution_count": 70,
     "metadata": {},
     "output_type": "execute_result"
    }
   ],
   "source": [
    "scores_df['Outcome'] = final_model.predict(pred_data)\n",
    "scores_df"
   ]
  }
 ],
 "metadata": {
  "colab": {
   "name": "P110_G1.ipynb",
   "provenance": []
  },
  "kernelspec": {
   "display_name": "Python 3",
   "language": "python",
   "name": "python3"
  },
  "language_info": {
   "codemirror_mode": {
    "name": "ipython",
    "version": 3
   },
   "file_extension": ".py",
   "mimetype": "text/x-python",
   "name": "python",
   "nbconvert_exporter": "python",
   "pygments_lexer": "ipython3",
   "version": "3.8.8"
  }
 },
 "nbformat": 4,
 "nbformat_minor": 5
}
